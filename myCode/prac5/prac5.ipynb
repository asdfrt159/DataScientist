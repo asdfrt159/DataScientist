{
 "cells": [
  {
   "cell_type": "code",
   "execution_count": 19,
   "metadata": {},
   "outputs": [],
   "source": [
    "with open('input.txt','r') as f :\n",
    "    inputs = f.readlines()\n",
    "contents = [x.rstrip('\\n') for x in inputs]\n",
    "\n",
    "content = []\n",
    "for i in range(len(contents)) :\n",
    "    content.append([int(x) for x in contents[i].split()])\n"
   ]
  },
  {
   "cell_type": "code",
   "execution_count": 22,
   "metadata": {},
   "outputs": [],
   "source": [
    "length = content[0]\n",
    "input = content[1]"
   ]
  },
  {
   "cell_type": "code",
   "execution_count": 23,
   "metadata": {},
   "outputs": [
    {
     "data": {
      "text/plain": [
       "[21, 3, 0, 2, 1, 21, 22, 66, 5, 100, 3, 9, 6, 3, 38, 3, 49, 100, 31, 52]"
      ]
     },
     "execution_count": 23,
     "metadata": {},
     "output_type": "execute_result"
    }
   ],
   "source": [
    "input"
   ]
  },
  {
   "cell_type": "code",
   "execution_count": 24,
   "metadata": {},
   "outputs": [],
   "source": [
    "class Node :\n",
    "    def __init__(self, no, x, y) : \n",
    "        self.no = no\n",
    "        self.x = x\n",
    "        self.y = y\n",
    "        \n",
    "\n",
    "def uclid(a,b) :\n",
    "    return ((a.x - b.x)**2 + (a.y - b.y)**2)**(0.5) "
   ]
  },
  {
   "cell_type": "code",
   "execution_count": 32,
   "metadata": {},
   "outputs": [],
   "source": [
    "classNode = []\n",
    "for i in range(len(input)) :\n",
    "\tif i%2 == 0 :\n",
    "\t\tclassNode.append(Node(i//2, input[i] , input[i+1])) "
   ]
  },
  {
   "cell_type": "code",
   "execution_count": 33,
   "metadata": {},
   "outputs": [
    {
     "name": "stdout",
     "output_type": "stream",
     "text": [
      "0좌표 : (21,3)\n",
      "1좌표 : (0,2)\n",
      "2좌표 : (1,21)\n",
      "3좌표 : (22,66)\n",
      "4좌표 : (5,100)\n",
      "5좌표 : (3,9)\n",
      "6좌표 : (6,3)\n",
      "7좌표 : (38,3)\n",
      "8좌표 : (49,100)\n",
      "9좌표 : (31,52)\n"
     ]
    }
   ],
   "source": [
    "for i in range(len(classNode)) :\n",
    "\tprint(f'{classNode[i].no}좌표 : ({classNode[i].x},{classNode[i].y})')"
   ]
  },
  {
   "cell_type": "code",
   "execution_count": 36,
   "metadata": {},
   "outputs": [
    {
     "data": {
      "text/plain": [
       "[[None, None, None, None, None, None, None, None, None, None],\n",
       " [None, None, None, None, None, None, None, None, None, None],\n",
       " [None, None, None, None, None, None, None, None, None, None],\n",
       " [None, None, None, None, None, None, None, None, None, None],\n",
       " [None, None, None, None, None, None, None, None, None, None],\n",
       " [None, None, None, None, None, None, None, None, None, None],\n",
       " [None, None, None, None, None, None, None, None, None, None],\n",
       " [None, None, None, None, None, None, None, None, None, None],\n",
       " [None, None, None, None, None, None, None, None, None, None],\n",
       " [None, None, None, None, None, None, None, None, None, None]]"
      ]
     },
     "execution_count": 36,
     "metadata": {},
     "output_type": "execute_result"
    }
   ],
   "source": [
    "[[None for _ in range(len(classNode))] for _ in range(len(classNode))]  # 앞이 열, 뒤가 행"
   ]
  },
  {
   "cell_type": "code",
   "execution_count": null,
   "metadata": {},
   "outputs": [],
   "source": []
  }
 ],
 "metadata": {
  "kernelspec": {
   "display_name": "Python 3",
   "language": "python",
   "name": "python3"
  },
  "language_info": {
   "codemirror_mode": {
    "name": "ipython",
    "version": 3
   },
   "file_extension": ".py",
   "mimetype": "text/x-python",
   "name": "python",
   "nbconvert_exporter": "python",
   "pygments_lexer": "ipython3",
   "version": "3.11.8"
  }
 },
 "nbformat": 4,
 "nbformat_minor": 2
}
