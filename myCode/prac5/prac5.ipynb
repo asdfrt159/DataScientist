{
 "cells": [
  {
   "cell_type": "code",
   "execution_count": 2,
   "metadata": {},
   "outputs": [],
   "source": [
    "with open('input.txt','r') as f :\n",
    "    inputs = f.readlines()\n",
    "contents = [x.rstrip('\\n') for x in inputs]\n",
    "\n",
    "content = []\n",
    "for i in range(len(contents)) :\n",
    "    content.append([int(x) for x in contents[i].split()])\n"
   ]
  },
  {
   "cell_type": "code",
   "execution_count": 3,
   "metadata": {},
   "outputs": [],
   "source": [
    "length = content[0]\n",
    "input = content[1]"
   ]
  },
  {
   "cell_type": "code",
   "execution_count": 4,
   "metadata": {},
   "outputs": [
    {
     "data": {
      "text/plain": [
       "[21, 3, 0, 2, 1, 21, 22, 66, 5, 100, 3, 9, 6, 3, 38, 3, 49, 100, 31, 52]"
      ]
     },
     "execution_count": 4,
     "metadata": {},
     "output_type": "execute_result"
    }
   ],
   "source": [
    "input"
   ]
  },
  {
   "cell_type": "code",
   "execution_count": 5,
   "metadata": {},
   "outputs": [],
   "source": [
    "class Node :\n",
    "    def __init__(self, no, x, y) : \n",
    "        self.no = no\n",
    "        self.x = x\n",
    "        self.y = y\n",
    "        \n",
    "\n",
    "def uclid(a,b) :\n",
    "    return ((a.x - b.x)**2 + (a.y - b.y)**2)**(0.5) "
   ]
  },
  {
   "cell_type": "code",
   "execution_count": 6,
   "metadata": {},
   "outputs": [],
   "source": [
    "classNode = []\n",
    "for i in range(len(input)) :\n",
    "\tif i%2 == 0 :\n",
    "\t\tclassNode.append(Node(i//2, input[i] , input[i+1])) "
   ]
  },
  {
   "cell_type": "code",
   "execution_count": 7,
   "metadata": {},
   "outputs": [
    {
     "name": "stdout",
     "output_type": "stream",
     "text": [
      "0좌표 : (21,3)\n",
      "1좌표 : (0,2)\n",
      "2좌표 : (1,21)\n",
      "3좌표 : (22,66)\n",
      "4좌표 : (5,100)\n",
      "5좌표 : (3,9)\n",
      "6좌표 : (6,3)\n",
      "7좌표 : (38,3)\n",
      "8좌표 : (49,100)\n",
      "9좌표 : (31,52)\n"
     ]
    }
   ],
   "source": [
    "for i in range(len(classNode)) :\n",
    "\tprint(f'{classNode[i].no}좌표 : ({classNode[i].x},{classNode[i].y})')"
   ]
  },
  {
   "cell_type": "code",
   "execution_count": 8,
   "metadata": {},
   "outputs": [],
   "source": [
    "dis_arr = [[None for _ in range(len(classNode))] for _ in range(len(classNode))]  # 앞이 열, 뒤가 행"
   ]
  },
  {
   "cell_type": "code",
   "execution_count": 11,
   "metadata": {},
   "outputs": [],
   "source": [
    "for i in range(len(classNode)) :\n",
    "    for j in range(len(classNode)) :\n",
    "        dis_arr[i][j] = round(uclid(classNode[i], classNode[j]),2)"
   ]
  },
  {
   "cell_type": "code",
   "execution_count": 12,
   "metadata": {},
   "outputs": [
    {
     "data": {
      "text/plain": [
       "[[0.0, 21.02, 26.91, 63.01, 98.31, 18.97, 15.0, 17.0, 100.96, 50.01],\n",
       " [21.02, 0.0, 19.03, 67.68, 98.13, 7.62, 6.08, 38.01, 109.57, 58.83],\n",
       " [26.91, 19.03, 0.0, 49.66, 79.1, 12.17, 18.68, 41.15, 92.44, 43.14],\n",
       " [63.01, 67.68, 49.66, 0.0, 38.01, 60.08, 65.0, 65.0, 43.42, 16.64],\n",
       " [98.31, 98.13, 79.1, 38.01, 0.0, 91.02, 97.01, 102.46, 44.0, 54.59],\n",
       " [18.97, 7.62, 12.17, 60.08, 91.02, 0.0, 6.71, 35.51, 101.97, 51.31],\n",
       " [15.0, 6.08, 18.68, 65.0, 97.01, 6.71, 0.0, 32.0, 106.1, 55.01],\n",
       " [17.0, 38.01, 41.15, 65.0, 102.46, 35.51, 32.0, 0.0, 97.62, 49.5],\n",
       " [100.96, 109.57, 92.44, 43.42, 44.0, 101.97, 106.1, 97.62, 0.0, 51.26],\n",
       " [50.01, 58.83, 43.14, 16.64, 54.59, 51.31, 55.01, 49.5, 51.26, 0.0]]"
      ]
     },
     "execution_count": 12,
     "metadata": {},
     "output_type": "execute_result"
    }
   ],
   "source": [
    "dis_arr"
   ]
  },
  {
   "cell_type": "code",
   "execution_count": 91,
   "metadata": {},
   "outputs": [],
   "source": [
    "visit = [None for i in range(len(classNode))]\n",
    "real_dis = [float('inf') for i in range(len(classNode))]\n"
   ]
  },
  {
   "cell_type": "code",
   "execution_count": 42,
   "metadata": {},
   "outputs": [
    {
     "data": {
      "text/plain": [
       "[[6, 8],\n",
       " [6, 8, 9],\n",
       " [5],\n",
       " [4, 5, 9],\n",
       " [3, 6, 8],\n",
       " [2, 3, 6, 9],\n",
       " [0, 1, 4, 5, 7, 8],\n",
       " [6, 8, 9],\n",
       " [0, 1, 4, 6, 7, 9],\n",
       " [1, 3, 5, 7, 8]]"
      ]
     },
     "execution_count": 42,
     "metadata": {},
     "output_type": "execute_result"
    }
   ],
   "source": [
    "graph = content[2:]\n",
    "graph"
   ]
  },
  {
   "cell_type": "code",
   "execution_count": 49,
   "metadata": {},
   "outputs": [],
   "source": [
    "graph_arr = [[None for _ in range(len(classNode))] for _ in range(len(classNode))]\n",
    "for i in range(len(classNode)) :  # 그래프 연결 노드를 돌면서 확인\n",
    "\tfor j in graph[i] :\n",
    "\t\tgraph_arr[i][j] = 1"
   ]
  },
  {
   "cell_type": "code",
   "execution_count": 50,
   "metadata": {},
   "outputs": [
    {
     "data": {
      "text/plain": [
       "[[None, None, None, None, None, None, 1, None, 1, None],\n",
       " [None, None, None, None, None, None, 1, None, 1, 1],\n",
       " [None, None, None, None, None, 1, None, None, None, None],\n",
       " [None, None, None, None, 1, 1, None, None, None, 1],\n",
       " [None, None, None, 1, None, None, 1, None, 1, None],\n",
       " [None, None, 1, 1, None, None, 1, None, None, 1],\n",
       " [1, 1, None, None, 1, 1, None, 1, 1, None],\n",
       " [None, None, None, None, None, None, 1, None, 1, 1],\n",
       " [1, 1, None, None, 1, None, 1, 1, None, 1],\n",
       " [None, 1, None, 1, None, 1, None, 1, 1, None]]"
      ]
     },
     "execution_count": 50,
     "metadata": {},
     "output_type": "execute_result"
    }
   ],
   "source": [
    "graph_arr"
   ]
  },
  {
   "cell_type": "code",
   "execution_count": 92,
   "metadata": {},
   "outputs": [
    {
     "data": {
      "text/plain": [
       "([None, None, None, None, None, None, None, None, None, None],\n",
       " [0, inf, inf, inf, inf, inf, inf, inf, inf, inf])"
      ]
     },
     "execution_count": 92,
     "metadata": {},
     "output_type": "execute_result"
    }
   ],
   "source": [
    "# 시작점\n",
    "real_dis[0] = 0\n",
    "visit, real_dis"
   ]
  },
  {
   "cell_type": "code",
   "execution_count": 68,
   "metadata": {},
   "outputs": [],
   "source": [
    "# 최소값 찾는 함수\n",
    "\n",
    "def find_min(list) :\n",
    "\tmin_val = float('inf')\n",
    "\tmin_index = None\n",
    "\tfor index, value in enumerate(list) :\n",
    "\t\tif min_val > value :\n",
    "\t\t\tmin_val = value\n",
    "\t\t\tmin_index = index\n",
    "\treturn min_index, min_val"
   ]
  },
  {
   "cell_type": "code",
   "execution_count": 93,
   "metadata": {},
   "outputs": [],
   "source": [
    "def find_dis(x, list, dis_arr, real_dis, visit) :  # list는 그래프 연결, dis_arr 는 그래프 거리 , visit은 방문 , real_dis 는 실제 거리\n",
    "\tvisit[x] = 1 \n",
    "\tfor index, i in enumerate(list) :\n",
    "\t\tif i != None :\n",
    "\t\t\tif min(real_dis[x] + dis_arr[x][index] , real_dis[index]) == real_dis[x] + dis_arr[x][index] :\n",
    "\t\t\t\treal_dis[index] = real_dis[x] + dis_arr[x][index]\n",
    "\n",
    "\t\t\t\t"
   ]
  },
  {
   "cell_type": "code",
   "execution_count": 94,
   "metadata": {},
   "outputs": [],
   "source": [
    "find_dis(0, graph_arr[0], dis_arr, real_dis, visit)"
   ]
  },
  {
   "cell_type": "code",
   "execution_count": 95,
   "metadata": {},
   "outputs": [
    {
     "data": {
      "text/plain": [
       "([0, inf, inf, inf, inf, inf, 15.0, inf, 100.96, inf],\n",
       " [1, None, None, None, None, None, None, None, None, None])"
      ]
     },
     "execution_count": 95,
     "metadata": {},
     "output_type": "execute_result"
    }
   ],
   "source": [
    "real_dis, visit"
   ]
  },
  {
   "cell_type": "code",
   "execution_count": 99,
   "metadata": {},
   "outputs": [
    {
     "data": {
      "text/plain": [
       "False"
      ]
     },
     "execution_count": 99,
     "metadata": {},
     "output_type": "execute_result"
    }
   ],
   "source": [
    "visit == 1"
   ]
  },
  {
   "cell_type": "code",
   "execution_count": 100,
   "metadata": {},
   "outputs": [],
   "source": [
    "test = [1,1,None]\n",
    "test2 = [None,None,None]\n",
    "test3 = [1,1,1] "
   ]
  },
  {
   "cell_type": "code",
   "execution_count": 102,
   "metadata": {},
   "outputs": [
    {
     "data": {
      "text/plain": [
       "False"
      ]
     },
     "execution_count": 102,
     "metadata": {},
     "output_type": "execute_result"
    }
   ],
   "source": [
    "test3 == 1"
   ]
  }
 ],
 "metadata": {
  "kernelspec": {
   "display_name": "Python 3",
   "language": "python",
   "name": "python3"
  },
  "language_info": {
   "codemirror_mode": {
    "name": "ipython",
    "version": 3
   },
   "file_extension": ".py",
   "mimetype": "text/x-python",
   "name": "python",
   "nbconvert_exporter": "python",
   "pygments_lexer": "ipython3",
   "version": "3.11.8"
  }
 },
 "nbformat": 4,
 "nbformat_minor": 2
}
