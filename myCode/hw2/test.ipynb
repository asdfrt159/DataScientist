{
 "cells": [
  {
   "cell_type": "code",
   "execution_count": 61,
   "metadata": {},
   "outputs": [],
   "source": [
    "import pandas as pd\n",
    "\n",
    "\n",
    "with open('input4.txt','r') as f : \n",
    "    text = f.readlines()\n",
    "\n",
    "lines = [x.rstrip('\\n') for x in text[1:4]]\n",
    "line_1 = pd.DataFrame([int(x) for x in lines[0].split(' ')]).T\n",
    "line_2 = pd.DataFrame([int(x) for x in lines[1].split(' ')]).T\n",
    "line_3 = pd.DataFrame([int(x) for x in lines[2].split(' ')]).T\n",
    "\n",
    "df = pd.concat([line_1,line_2,line_3], axis =0).reset_index(drop=True)"
   ]
  },
  {
   "cell_type": "code",
   "execution_count": 62,
   "metadata": {},
   "outputs": [],
   "source": [
    "import numpy as np"
   ]
  },
  {
   "cell_type": "code",
   "execution_count": 63,
   "metadata": {},
   "outputs": [],
   "source": [
    "import pandas as pd\n",
    "\n",
    "\n",
    "with open('input4.txt','r') as f : \n",
    "    text = f.readlines()\n",
    "\n",
    "lines = [x.rstrip('\\n') for x in text[1:4]]"
   ]
  },
  {
   "cell_type": "code",
   "execution_count": 64,
   "metadata": {},
   "outputs": [
    {
     "data": {
      "text/plain": [
       "array([[ 1, 17, 17, 19,  2, 17, 14,  6, 19, 11],\n",
       "       [ 1, 19, 16,  6, 13, 15, 16, 13,  7,  2],\n",
       "       [13, 11,  1,  9, 10, 12, 16, 20, 14, 12]])"
      ]
     },
     "execution_count": 64,
     "metadata": {},
     "output_type": "execute_result"
    }
   ],
   "source": [
    "arr1 = np.array([[int(x) for x in lines[0].split(' ')],[int(x) for x in lines[1].split(' ')],[int(x) for x in lines[2].split(' ')]])\n",
    "arr1"
   ]
  },
  {
   "cell_type": "code",
   "execution_count": 65,
   "metadata": {},
   "outputs": [
    {
     "data": {
      "text/plain": [
       "1"
      ]
     },
     "execution_count": 65,
     "metadata": {},
     "output_type": "execute_result"
    }
   ],
   "source": [
    "arr1[0,0]"
   ]
  },
  {
   "cell_type": "code",
   "execution_count": 100,
   "metadata": {},
   "outputs": [],
   "source": [
    "def algo(df, col, num) :\n",
    "    if num == 1 :\n",
    "        val = df[0,col] - df[2,col]\n",
    "    elif num == 2 :\n",
    "        val = df[0,col] - df[1,col]\n",
    "    elif num == 3 :\n",
    "        val = df[1,col] - df[2,col]\n",
    "    elif num == 4 : \n",
    "        val = df[2,col] - df[1,col]\n",
    "    elif num == 5 :\n",
    "        val = df[1,col] - df[0,col]\n",
    "    elif num == 6 : \n",
    "        val = df[2,col] - df[0,col]\n",
    "    else : \n",
    "        val = None\n",
    "    return val, num\n",
    "    "
   ]
  },
  {
   "cell_type": "code",
   "execution_count": null,
   "metadata": {},
   "outputs": [],
   "source": [
    "def next_algo(df, row, col) :\n",
    "    if df[row, col-1] == 1:\n",
    "        if algo(df,col,4)[0] > algo(df,col,5)[0] :\n",
    "            return \n",
    "        elif algo(df,col,4)[0] < algo(df,col,5)[0] :\n",
    "            return \n",
    "        else : \n",
    "            return\n"
   ]
  },
  {
   "cell_type": "code",
   "execution_count": 105,
   "metadata": {},
   "outputs": [
    {
     "data": {
      "text/plain": [
       "array([[[nan, nan, nan, nan, nan, nan, nan, nan, nan, nan],\n",
       "        [nan, nan, nan, nan, nan, nan, nan, nan, nan, nan],\n",
       "        [nan, nan, nan, nan, nan, nan, nan, nan, nan, nan],\n",
       "        [nan, nan, nan, nan, nan, nan, nan, nan, nan, nan],\n",
       "        [nan, nan, nan, nan, nan, nan, nan, nan, nan, nan],\n",
       "        [nan, nan, nan, nan, nan, nan, nan, nan, nan, nan]],\n",
       "\n",
       "       [[nan, nan, nan, nan, nan, nan, nan, nan, nan, nan],\n",
       "        [nan, nan, nan, nan, nan, nan, nan, nan, nan, nan],\n",
       "        [nan, nan, nan, nan, nan, nan, nan, nan, nan, nan],\n",
       "        [nan, nan, nan, nan, nan, nan, nan, nan, nan, nan],\n",
       "        [nan, nan, nan, nan, nan, nan, nan, nan, nan, nan],\n",
       "        [nan, nan, nan, nan, nan, nan, nan, nan, nan, nan]]])"
      ]
     },
     "execution_count": 105,
     "metadata": {},
     "output_type": "execute_result"
    }
   ],
   "source": [
    "res = np.empty((2,6,10))\n",
    "res[:] = np.nan\n",
    "res"
   ]
  },
  {
   "cell_type": "code",
   "execution_count": 106,
   "metadata": {},
   "outputs": [],
   "source": [
    "for i in range(6) : \n",
    "    res[0,i,0] = algo(arr1,0,i+1)[0]\n",
    "    res[1,i,0] = algo(arr1,0,i+1)[1]"
   ]
  },
  {
   "cell_type": "code",
   "execution_count": 107,
   "metadata": {},
   "outputs": [
    {
     "data": {
      "text/plain": [
       "array([[[-12.,  nan,  nan,  nan,  nan,  nan,  nan,  nan,  nan,  nan],\n",
       "        [  0.,  nan,  nan,  nan,  nan,  nan,  nan,  nan,  nan,  nan],\n",
       "        [-12.,  nan,  nan,  nan,  nan,  nan,  nan,  nan,  nan,  nan],\n",
       "        [ 12.,  nan,  nan,  nan,  nan,  nan,  nan,  nan,  nan,  nan],\n",
       "        [  0.,  nan,  nan,  nan,  nan,  nan,  nan,  nan,  nan,  nan],\n",
       "        [ 12.,  nan,  nan,  nan,  nan,  nan,  nan,  nan,  nan,  nan]],\n",
       "\n",
       "       [[  1.,  nan,  nan,  nan,  nan,  nan,  nan,  nan,  nan,  nan],\n",
       "        [  2.,  nan,  nan,  nan,  nan,  nan,  nan,  nan,  nan,  nan],\n",
       "        [  3.,  nan,  nan,  nan,  nan,  nan,  nan,  nan,  nan,  nan],\n",
       "        [  4.,  nan,  nan,  nan,  nan,  nan,  nan,  nan,  nan,  nan],\n",
       "        [  5.,  nan,  nan,  nan,  nan,  nan,  nan,  nan,  nan,  nan],\n",
       "        [  6.,  nan,  nan,  nan,  nan,  nan,  nan,  nan,  nan,  nan]]])"
      ]
     },
     "execution_count": 107,
     "metadata": {},
     "output_type": "execute_result"
    }
   ],
   "source": [
    "res"
   ]
  }
 ],
 "metadata": {
  "kernelspec": {
   "display_name": "Python 3",
   "language": "python",
   "name": "python3"
  },
  "language_info": {
   "codemirror_mode": {
    "name": "ipython",
    "version": 3
   },
   "file_extension": ".py",
   "mimetype": "text/x-python",
   "name": "python",
   "nbconvert_exporter": "python",
   "pygments_lexer": "ipython3",
   "version": "3.11.8"
  }
 },
 "nbformat": 4,
 "nbformat_minor": 2
}
