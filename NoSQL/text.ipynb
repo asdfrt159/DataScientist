{
 "cells": [
  {
   "cell_type": "markdown",
   "metadata": {},
   "source": [
    "# Indexing\n",
    "## Text\n",
    "### Preliminaries"
   ]
  },
  {
   "cell_type": "code",
   "execution_count": null,
   "metadata": {
    "pycharm": {
     "name": "#%%\n"
    }
   },
   "outputs": [],
   "source": [
    "from pymongo import MongoClient, TEXT\n",
    "from pprint import pprint\n",
    "\n",
    "client = MongoClient()\n",
    "restaurants = client.lab.restaurants\n",
    "states = client.lab.states"
   ]
  },
  {
   "cell_type": "markdown",
   "metadata": {},
   "source": [
    "### Exercise 1"
   ]
  },
  {
   "cell_type": "code",
   "execution_count": null,
   "metadata": {
    "pycharm": {
     "name": "#%%\n"
    }
   },
   "outputs": [],
   "source": [
    "# Using regex\n",
    "ex1 = restaurants.find({'name': {'$regex': '.*Poke.*'}}, {'_id': 0, 'name': 1, 'address': 1})\n",
    "pprint(list(ex1))"
   ]
  },
  {
   "cell_type": "code",
   "execution_count": null,
   "metadata": {
    "pycharm": {
     "name": "#%%\n"
    }
   },
   "outputs": [],
   "source": [
    "# Using text index\n",
    "restaurants.create_index([('name', TEXT)])\n",
    "ex11 = restaurants.find({'$text': {'$search': 'Poke'}}, {'_id': 0, 'name': 1, 'address': 1})\n",
    "pprint(list(ex11))\n"
   ]
  },
  {
   "cell_type": "markdown",
   "metadata": {},
   "source": [
    "### Exercise 2"
   ]
  },
  {
   "cell_type": "code",
   "execution_count": null,
   "metadata": {
    "pycharm": {
     "name": "#%%\n"
    }
   },
   "outputs": [],
   "source": [
    "# First, find \"Nolbu Restaurants\". I will use the text index.\n",
    "ex2_r = restaurants.find_one({'$text': {'$search': '\\\"Nolbu Restaurant\\\"'}})\n",
    "ex2_res = states.find_one({\n",
    "    'loc': {\n",
    "        '$geoIntersects': {\n",
    "            '$geometry': {\n",
    "                'type': 'Point',\n",
    "                'coordinates': ex2_r['address']['coord']\n",
    "            }\n",
    "        }\n",
    "    }}, {'_id': 0, 'name': 1})\n",
    "\n",
    "pprint(ex2_res)"
   ]
  },
  {
   "cell_type": "markdown",
   "metadata": {},
   "source": [
    "### Exercise 3"
   ]
  },
  {
   "cell_type": "code",
   "execution_count": null,
   "metadata": {
    "pycharm": {
     "name": "#%%\n"
    }
   },
   "outputs": [],
   "source": [
    "ex3_r = restaurants.find_one({'$text': {'$search': 'Ramen -Izakaya'}, 'cuisine': 'Korean'})\n",
    "# pprint(ex3_r)\n",
    "ex3_res = restaurants.find_one({\n",
    "    'address.coord': {\n",
    "        '$geoWithin': {\n",
    "            '$centerSphere': [ex3_r['address']['coord'], 0.15 / 6378.1]}},\n",
    "    'cuisine': 'Japanese'})\n",
    "pprint(ex3_res)\n"
   ]
  },
  {
   "cell_type": "code",
   "execution_count": null,
   "metadata": {},
   "outputs": [],
   "source": [
    "restaurants.find_one({\n",
    "    'address.coord': {\n",
    "        '$nearSphere': {\n",
    "            '$geometry': {\n",
    "                'type': \"Point\",\n",
    "                'coordinates': ex3_r['address']['coord']\n",
    "            },\n",
    "            '$maxDistance': 150\n",
    "        }\n",
    "    },\n",
    "    'cuisine': 'Japanese'\n",
    "})"
   ]
  }
 ],
 "metadata": {
  "interpreter": {
   "hash": "574c6c1961e5d1c1d2629132d6db96caf8f035c14f3ae18a49c2041f40bfea05"
  },
  "kernelspec": {
   "display_name": "Python 3 (ipykernel)",
   "language": "python",
   "name": "python3"
  },
  "language_info": {
   "codemirror_mode": {
    "name": "ipython",
    "version": 3
   },
   "file_extension": ".py",
   "mimetype": "text/x-python",
   "name": "python",
   "nbconvert_exporter": "python",
   "pygments_lexer": "ipython3",
   "version": "3.12.2"
  }
 },
 "nbformat": 4,
 "nbformat_minor": 2
}
