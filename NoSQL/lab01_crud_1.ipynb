{
 "cells": [
  {
   "cell_type": "markdown",
   "id": "3221b1f9",
   "metadata": {},
   "source": [
    "### Connection"
   ]
  },
  {
   "cell_type": "code",
   "execution_count": null,
   "id": "6232f890",
   "metadata": {},
   "outputs": [],
   "source": [
    "from pymongo import MongoClient\n",
    "from pprint import pprint\n",
    "\n",
    "client = MongoClient()"
   ]
  },
  {
   "cell_type": "markdown",
   "id": "f034497c",
   "metadata": {},
   "source": [
    "### Excercise 1"
   ]
  },
  {
   "cell_type": "code",
   "execution_count": null,
   "id": "419fadeb",
   "metadata": {},
   "outputs": [],
   "source": [
    "db = client['lab']\n",
    "blackpink = db['newjeans']"
   ]
  },
  {
   "cell_type": "code",
   "execution_count": null,
   "id": "3b994d88",
   "metadata": {
    "scrolled": true
   },
   "outputs": [],
   "source": [
    "newjeans.insert_one({'name': 'Minji', 'age': 18})\n",
    "result = newjeans.find()\n",
    "pprint(list(result))"
   ]
  },
  {
   "cell_type": "code",
   "execution_count": null,
   "id": "47e7b9c6",
   "metadata": {},
   "outputs": [],
   "source": [
    "newjeans.insert_many([{'name': 'Hanni', 'age': 19}, {'name': 'Danielle', 'age': 18}, , {'name': 'Haerin', 'age': 17}])\n",
    "pprint(list(newjens.find()))"
   ]
  },
  {
   "cell_type": "markdown",
   "id": "79bbb759",
   "metadata": {},
   "source": [
    "### Excercise 2"
   ]
  },
  {
   "cell_type": "code",
   "execution_count": null,
   "id": "0e371757",
   "metadata": {},
   "outputs": [],
   "source": [
    "res = newjeans.update_one({'name': 'Hanni'}, {'$set' : {'location': 'Rome'}})\n",
    "pprint(list(newjeans.find()))"
   ]
  },
  {
   "cell_type": "code",
   "execution_count": null,
   "id": "f871b516",
   "metadata": {},
   "outputs": [],
   "source": [
    "newjeans.update_many({'age': 18}, {'$set' : {'location': 'Paris'}})\n",
    "pprint(list(newjeans.find()))"
   ]
  },
  {
   "cell_type": "code",
   "execution_count": null,
   "id": "a7537ec5",
   "metadata": {
    "scrolled": true
   },
   "outputs": [],
   "source": [
    "# using upsert option (default value == False)\n",
    "newjeans.update_one({'name': 'Hyein'}, {'$set' : {'age': 15}}, upsert=True)\n",
    "pprint(list(newjeans.find()))"
   ]
  },
  {
   "cell_type": "markdown",
   "id": "341ad1b9",
   "metadata": {},
   "source": [
    "### Exercise 3"
   ]
  },
  {
   "cell_type": "code",
   "execution_count": null,
   "id": "9631fd80",
   "metadata": {},
   "outputs": [],
   "source": [
    "newjeans.delete_many({'location': 'Paris'})\n",
    "pprint(list(newjeans.find()))"
   ]
  },
  {
   "cell_type": "markdown",
   "id": "b6c99a77",
   "metadata": {},
   "source": [
    "## Excercise 4"
   ]
  },
  {
   "cell_type": "code",
   "execution_count": null,
   "id": "fb16a8e1",
   "metadata": {},
   "outputs": [],
   "source": [
    "db = client['lab']\n",
    "col = db['imdb']"
   ]
  },
  {
   "cell_type": "markdown",
   "id": "edc3573a",
   "metadata": {},
   "source": [
    "### Excercise 4-1"
   ]
  },
  {
   "cell_type": "markdown",
   "id": "d63a9633",
   "metadata": {},
   "source": [
    "### write an input method"
   ]
  },
  {
   "cell_type": "code",
   "execution_count": null,
   "id": "8d8ca71a",
   "metadata": {},
   "outputs": [],
   "source": [
    "def input_movie_info():\n",
    "    title = input(\"Movie Title:\")\n",
    "    director = input('Director:')\n",
    "    genre = input('Genre:').split(',')\n",
    "    score = float(input('Score:'))\n",
    "    \n",
    "    return title, director, genre, score "
   ]
  },
  {
   "cell_type": "markdown",
   "id": "284dd0d8",
   "metadata": {},
   "source": [
    "### type in a movie information"
   ]
  },
  {
   "cell_type": "code",
   "execution_count": null,
   "id": "567cef49",
   "metadata": {},
   "outputs": [],
   "source": [
    "t, d, g, s = input_movie_info()\n",
    "\n",
    "col.insert_one({\n",
    "    'title': t,\n",
    "    'director': d,\n",
    "    'genre': g,\n",
    "    'score': s\n",
    "})\n",
    "print('[INFO] Success to insert!')"
   ]
  },
  {
   "cell_type": "code",
   "execution_count": null,
   "id": "69bd094f",
   "metadata": {},
   "outputs": [],
   "source": [
    "print('[INFO] Movie list')\n",
    "pprint(list(col.find()))"
   ]
  },
  {
   "cell_type": "markdown",
   "id": "a405afcf",
   "metadata": {},
   "source": [
    "### Exercise 4-2"
   ]
  },
  {
   "cell_type": "code",
   "execution_count": null,
   "id": "b989c112",
   "metadata": {},
   "outputs": [],
   "source": [
    "quit = False\n",
    "movies = []\n",
    "while(not quit):\n",
    "    t, d, g, s = input_movie_info()\n",
    "    \n",
    "    doc = {'title': t, 'director': d, 'genre': g, 'score': s}\n",
    "    movies.append(doc)\n",
    "    \n",
    "    end = input('Quit (Y/N)? ')\n",
    "    if(end == 'Y'):\n",
    "        quit = True\n",
    "\n",
    "col.insert_many(movies)\n",
    "print('[INFO] Success to insert!')"
   ]
  },
  {
   "cell_type": "code",
   "execution_count": null,
   "id": "18f3a778",
   "metadata": {},
   "outputs": [],
   "source": [
    "print('[INFO] Movie list')\n",
    "pprint(list(col.find()))"
   ]
  },
  {
   "cell_type": "markdown",
   "id": "2cf29d8c",
   "metadata": {},
   "source": [
    "### Excercise 4-3"
   ]
  },
  {
   "cell_type": "code",
   "execution_count": null,
   "id": "0b2549d0",
   "metadata": {},
   "outputs": [],
   "source": [
    "print('[INFO] Enter the movie title you want to update.')\n",
    "t, d, g, s = input_movie_info()\n",
    "\n",
    "col.update_one(\n",
    "    {'title': t},\n",
    "    {\n",
    "        '$set': {\n",
    "            'director': d,\n",
    "            'genre': g,\n",
    "            'score': s\n",
    "        }\n",
    "    }\n",
    ")\n",
    "\n",
    "print('[INFO] Success to update!')"
   ]
  },
  {
   "cell_type": "code",
   "execution_count": null,
   "id": "a1656760",
   "metadata": {},
   "outputs": [],
   "source": [
    "print('[INFO] Movie list')\n",
    "pprint(list(col.find()))"
   ]
  },
  {
   "cell_type": "markdown",
   "id": "f02ea9c1",
   "metadata": {},
   "source": [
    "### Excercise 4-4"
   ]
  },
  {
   "cell_type": "code",
   "execution_count": null,
   "id": "6158962b",
   "metadata": {},
   "outputs": [],
   "source": [
    "print('[INFO] Enter the movie title you want to remove.')\n",
    "title = input('Movie Title: ')\n",
    "\n",
    "delete_op = input('[INFO] Are you sure? (Y/N)')\n",
    "if delete_op =='Y':\n",
    "    col.delete_one({'title': title})\n",
    "    print('[INFO] Deleted')"
   ]
  },
  {
   "cell_type": "code",
   "execution_count": null,
   "id": "838a3b61",
   "metadata": {},
   "outputs": [],
   "source": [
    "print('[INFO] Movie list')\n",
    "pprint(list(col.find()))"
   ]
  }
 ],
 "metadata": {
  "kernelspec": {
   "display_name": "Python 3 (ipykernel)",
   "language": "python",
   "name": "python3"
  },
  "language_info": {
   "codemirror_mode": {
    "name": "ipython",
    "version": 3
   },
   "file_extension": ".py",
   "mimetype": "text/x-python",
   "name": "python",
   "nbconvert_exporter": "python",
   "pygments_lexer": "ipython3",
   "version": "3.8.12"
  }
 },
 "nbformat": 4,
 "nbformat_minor": 5
}
