{
 "cells": [
  {
   "cell_type": "code",
   "execution_count": 2,
   "metadata": {},
   "outputs": [],
   "source": [
    "from pymongo import MongoClient\n",
    "\n",
    "client = MongoClient()\n",
    "db = client.db"
   ]
  },
  {
   "cell_type": "markdown",
   "metadata": {},
   "source": [
    "# Exercise 1"
   ]
  },
  {
   "cell_type": "code",
   "execution_count": 3,
   "metadata": {},
   "outputs": [],
   "source": [
    "invent = db.inventory"
   ]
  },
  {
   "cell_type": "code",
   "execution_count": 15,
   "metadata": {},
   "outputs": [
    {
     "data": {
      "text/plain": [
       "[{'_id': 6,\n",
       "  'code': 'abc',\n",
       "  'tags': ['appliance', 'school', 'book'],\n",
       "  'qty': [{'size': '6', 'num': 100, 'color': 'green'},\n",
       "   {'size': '6', 'num': 50, 'color': 'blue'},\n",
       "   {'size': '8', 'num': 100, 'color': 'brown'}]}]"
      ]
     },
     "execution_count": 15,
     "metadata": {},
     "output_type": "execute_result"
    }
   ],
   "source": [
    "val = invent.find({'qty.color':'blue', 'qty.size' : '6'})\n",
    "list(val)"
   ]
  },
  {
   "cell_type": "code",
   "execution_count": 17,
   "metadata": {},
   "outputs": [
    {
     "data": {
      "text/plain": [
       "[{'_id': 6,\n",
       "  'code': 'abc',\n",
       "  'tags': ['appliance', 'school', 'book'],\n",
       "  'qty': [{'size': '6', 'num': 100, 'color': 'green'},\n",
       "   {'size': '6', 'num': 50, 'color': 'blue'},\n",
       "   {'size': '8', 'num': 100, 'color': 'brown'}]}]"
      ]
     },
     "execution_count": 17,
     "metadata": {},
     "output_type": "execute_result"
    }
   ],
   "source": [
    "val = invent.find({'qty.color' : 'blue' , 'qty' : {'$elemMatch' : {'size' : '6'}}})\n",
    "list(val)"
   ]
  }
 ],
 "metadata": {
  "kernelspec": {
   "display_name": "Python 3",
   "language": "python",
   "name": "python3"
  },
  "language_info": {
   "codemirror_mode": {
    "name": "ipython",
    "version": 3
   },
   "file_extension": ".py",
   "mimetype": "text/x-python",
   "name": "python",
   "nbconvert_exporter": "python",
   "pygments_lexer": "ipython3",
   "version": "3.11.9"
  }
 },
 "nbformat": 4,
 "nbformat_minor": 2
}
