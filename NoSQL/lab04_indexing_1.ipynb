{
  "cells": [
    {
      "cell_type": "markdown",
      "metadata": {},
      "source": [
        "# Indexing\n",
        "## Basics\n",
        "### Exercise 1\n",
        "#### Preliminaries"
      ]
    },
    {
      "cell_type": "code",
      "execution_count": null,
      "id": "ca0fbeb0",
      "metadata": {},
      "outputs": [],
      "source": [
        "from pymongo import MongoClient\n",
        "from pprint import pprint\n",
        "\n",
        "client = MongoClient()\n",
        "blog = client.lab_index.blog"
      ]
    },
    {
      "cell_type": "code",
      "execution_count": null,
      "id": "043f6fef",
      "metadata": {},
      "outputs": [],
      "source": [
        "!mongoimport -d lab_index -c blog ./mongo/dataset-master/blog.json"
      ]
    },
    {
      "cell_type": "markdown",
      "id": "2d46064e",
      "metadata": {},
      "source": [
        "#### 1-1"
      ]
    },
    {
      "cell_type": "code",
      "execution_count": null,
      "id": "5d463667",
      "metadata": {},
      "outputs": [],
      "source": [
        "cursor = blog.find({'writer': 'Kim'})\n",
        "explains = cursor.explain()\n",
        "pprint(explains['executionStats'])"
      ]
    },
    {
      "cell_type": "markdown",
      "id": "983144cc",
      "metadata": {},
      "source": [
        "#### 1-2"
      ]
    },
    {
      "cell_type": "code",
      "execution_count": null,
      "id": "2642ffcf",
      "metadata": {},
      "outputs": [],
      "source": [
        "res1 = blog.create_index([('writer', 1)])\n",
        "res2 = blog.index_information()\n",
        "\n",
        "print(res1, res2)"
      ]
    },
    {
      "cell_type": "markdown",
      "id": "00efe5db",
      "metadata": {},
      "source": [
        "#### 1-3"
      ]
    },
    {
      "cell_type": "code",
      "execution_count": null,
      "id": "66979281",
      "metadata": {},
      "outputs": [],
      "source": [
        "cursor = blog.find({'writer': 'Kim'})\n",
        "explains = cursor.explain()\n",
        "pprint(explains['executionStats'])\n"
      ]
    },
    {
      "cell_type": "markdown",
      "id": "141b7d72",
      "metadata": {},
      "source": [
        "#### 1-4"
      ]
    },
    {
      "cell_type": "code",
      "execution_count": null,
      "id": "bfa56120",
      "metadata": {},
      "outputs": [],
      "source": [
        "res3 = blog.create_index([('id', -1), ('writer', 1)])\n",
        "print(res3)"
      ]
    },
    {
      "cell_type": "markdown",
      "id": "3381a264",
      "metadata": {},
      "source": [
        "#### 1-5"
      ]
    },
    {
      "cell_type": "code",
      "execution_count": null,
      "id": "b6b932e4",
      "metadata": {},
      "outputs": [],
      "source": [
        "pprint(blog.index_information())\n",
        "blog.drop_indexes()\n",
        "pprint(blog.index_information())"
      ]
    },
    {
      "attachments": {},
      "cell_type": "markdown",
      "id": "cqpno4AOcKUg",
      "metadata": {
        "id": "cqpno4AOcKUg"
      },
      "source": [
        "### Exercise 2"
      ]
    },
    {
      "cell_type": "code",
      "execution_count": null,
      "id": "40f90c8f",
      "metadata": {
        "id": "40f90c8f"
      },
      "outputs": [],
      "source": [
        "! mongoimport -d lab -c metro ../dataset-master/metro_new.json\n",
        "\n",
        "metro = client.lab.metro"
      ]
    },
    {
      "cell_type": "code",
      "execution_count": null,
      "id": "xCTqd8rFchy8",
      "metadata": {
        "id": "xCTqd8rFchy8"
      },
      "outputs": [],
      "source": [
        "## Exercise 2-1\n",
        "\n",
        "# non-errors\n",
        "metro.drop_indexes()\n",
        "metro.create_index([('doc_id', 1)], unique=True)\n",
        "metro.create_index([('intersect', 1)], sparse=True)\n",
        "metro.create_index([('ride_pasgr_num', 1)],\n",
        "                   partialFilterExpression={'ride_pasgr_num' : {'$gt': 10000}})\n",
        "\n",
        "# error\n",
        "metro.create_index([('line_num', 1)], unique=True)\n",
        "metro.create_index([('intersect_id', 1)], unique=True, sparse=True)\n",
        "\n",
        "# get index information\n",
        "metro.index_information()"
      ]
    },
    {
      "cell_type": "code",
      "execution_count": null,
      "id": "6ea12b07",
      "metadata": {},
      "outputs": [],
      "source": [
        "## Exercise 2-2\n",
        "\n",
        "res1 = metro.find({}).sort([('doc_id',1)]).limit(2)\n",
        "pprint(res1.explain()['executionStats'])\n",
        "pprint(list(res1))\n",
        "\n",
        "res2 = metro.find({}).sort([('doc_id',1)]).limit(2).hint([('intersect', 1)])\n",
        "pprint(res2.explain()['executionStats'])\n",
        "pprint(list(res2))\n"
      ]
    },
    {
      "cell_type": "code",
      "execution_count": null,
      "id": "K8MDVS4Xcw2U",
      "metadata": {
        "id": "K8MDVS4Xcw2U"
      },
      "outputs": [],
      "source": [
        "# Exercise 2-3\n",
        "# Note that queries can be more improved by partialFilterExpression\n",
        "\n",
        "# 1 \n",
        "metro.drop_indexes()\n",
        "\n",
        "before = metro.find({'sub_sta_nm': '서울대입구(관악구청)'}).explain()\n",
        "metro.create_index([('sub_sta_nm', 1)])\n",
        "after = metro.find({'sub_sta_nm': '서울대입구(관악구청)'}).explain()\n",
        "\n",
        "print(before['executionStats']['executionStages']['stage'],\n",
        "      before['executionStats']['executionTimeMillis'])\n",
        "\n",
        "print(after['executionStats']['executionStages']['stage'], \n",
        "      after['executionStats']['executionTimeMillis'],\n",
        "      after['queryPlanner']['winningPlan']['inputStage']['indexName']) # before, after 차이를 비교해볼 것\n",
        "\n",
        "# 2 \n",
        "metro.drop_indexes()\n",
        "\n",
        "before = metro.find({'ride_pasgr_num': {'$gt': 100000}, 'alight_pasgr_num': {'$gt': 100000}}).explain()\n",
        "metro.create_index([('ride_pasgr_num', 1), ('alight_pasgr_num', 1)])\n",
        "after = metro.find({'ride_pasgr_num': {'$gt': 100000}, 'alight_pasgr_num': {'$gt': 100000}}).explain() \n",
        "\n",
        "print(before['executionStats']['executionStages']['stage'],\n",
        "      before['executionStats']['executionTimeMillis'])\n",
        "\n",
        "print(after['executionStats']['executionStages']['stage'],\n",
        "      after['executionStats']['executionTimeMillis'],\n",
        "      after['queryPlanner']['winningPlan']['inputStage']['indexName'])\n",
        "\n",
        "\n",
        "# 3\n",
        "metro.drop_indexes()\n",
        "\n",
        "before = metro.find({'ride_pasgr_num': {'$gt': 100000}, 'alight_pasgr_num': {'$gt': 100000}}).sort([('ride_pasgr_num', 1)]).explain()\n",
        "# metro.create_index([('alight_pasgr_num', 1), ('ride_pasgr_num', 1)])\n",
        "metro.create_index([('ride_pasgr_num', 1), ('alight_pasgr_num', 1)])\n",
        "after = metro.find({'ride_pasgr_num': {'$gt': 100000}, 'alight_pasgr_num': {'$gt': 100000}}).sort([('ride_pasgr_num', 1)]).explain() \n",
        "\n",
        "print(before['executionStats']['executionStages']['stage'],\n",
        "      before['executionStats']['executionTimeMillis'])\n",
        "\n",
        "# print(after['executionStats']['executionStages']['stage'],\n",
        "#       after['executionStats']['executionTimeMillis'], \n",
        "#       after['queryPlanner']['winningPlan']['inputStage']['inputStage']['indexName'])\n",
        "\n",
        "print(after['executionStats']['executionStages']['stage'],\n",
        "      after['executionStats']['executionTimeMillis'],\n",
        "      after['queryPlanner']['winningPlan']['inputStage']['indexName'])\n",
        "\n",
        "\n",
        "# 4\n",
        "metro.drop_indexes()\n",
        "\n",
        "before = metro.find({'ride_pasgr_num': {'$gt': 100000}, 'alight_pasgr_num': {'$gt': 100000}}).sort([('ride_pasgr_num', 1), ('alight_pasgr_num', 1)]).explain()\n",
        "metro.create_index([('ride_pasgr_num', 1), ('alight_pasgr_num', 1)])\n",
        "after = metro.find({'ride_pasgr_num': {'$gt': 100000}, 'alight_pasgr_num': {'$gt': 100000}}).sort([('ride_pasgr_num', 1), ('alight_pasgr_num', 1)]).explain()\n",
        "\n",
        "print(before['executionStats']['executionStages']['stage'],\n",
        "      before['executionStats']['executionTimeMillis'])\n",
        "\n",
        "print(after['executionStats']['executionStages']['stage'],\n",
        "      after['executionStats']['executionTimeMillis'],\n",
        "      after['queryPlanner']['winningPlan']['inputStage']['indexName']) \n",
        "\n",
        "\n",
        "# 5: Guess!"
      ]
    }
  ],
  "metadata": {
    "colab": {
      "name": "0310_lab_Indexing_basics.ipynb",
      "provenance": []
    },
    "kernelspec": {
      "display_name": "Python 3 (ipykernel)",
      "language": "python",
      "name": "python3"
    },
    "language_info": {
      "codemirror_mode": {
        "name": "ipython",
        "version": 3
      },
      "file_extension": ".py",
      "mimetype": "text/x-python",
      "name": "python",
      "nbconvert_exporter": "python",
      "pygments_lexer": "ipython3",
      "version": "3.9.7"
    }
  },
  "nbformat": 4,
  "nbformat_minor": 5
}
