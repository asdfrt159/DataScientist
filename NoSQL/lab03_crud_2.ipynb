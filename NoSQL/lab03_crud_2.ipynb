{
  "cells": [
    {
      "cell_type": "code",
      "execution_count": null,
      "id": "7c696b9d",
      "metadata": {
        "id": "7c696b9d"
      },
      "outputs": [],
      "source": [
        "from pymongo import MongoClient\n",
        "from pprint import pprint\n",
        "\n",
        "client = MongoClient()"
      ]
    },
    {
      "attachments": {},
      "cell_type": "markdown",
      "id": "b1TE5Z_qZ5RB",
      "metadata": {
        "id": "b1TE5Z_qZ5RB"
      },
      "source": [
        "### Exercise 1"
      ]
    },
    {
      "cell_type": "code",
      "execution_count": null,
      "id": "JrTseW5ZZyqX",
      "metadata": {
        "id": "JrTseW5ZZyqX"
      },
      "outputs": [],
      "source": [
        "!mongoimport /d lab /c inventory ../datasets/inventory.json --maintainInsertionOrder\n",
        "\n",
        "db = client.lab\n",
        "col = db.inventory"
      ]
    },
    {
      "cell_type": "code",
      "execution_count": null,
      "id": "468a546d",
      "metadata": {},
      "outputs": [],
      "source": [
        "# Exercise 1-1\n",
        "result = col.find(\n",
        "    {\"tags\":{\n",
        "        '$all': ['appliance', 'school', 'book']\n",
        "        }\n",
        "    })\n",
        "pprint(list(result)) "
      ]
    },
    {
      "cell_type": "code",
      "execution_count": null,
      "id": "f585dd42",
      "metadata": {
        "id": "f585dd42"
      },
      "outputs": [],
      "source": [
        "# Exercise 1-2\n",
        "result = col.find({}, {'tags': {'$slice': [1, 3]}})\n",
        "pprint(list(result))"
      ]
    },
    {
      "cell_type": "code",
      "execution_count": null,
      "id": "0a39694f",
      "metadata": {
        "id": "0a39694f"
      },
      "outputs": [],
      "source": [
        "# Exercise 1-3\n",
        "result = col.find({'qty': {'$elemMatch': {'color': 'blue', 'size': '6'}}})\n",
        "pprint(list(result))"
      ]
    },
    {
      "attachments": {},
      "cell_type": "markdown",
      "id": "4R6q4T7daBqf",
      "metadata": {
        "id": "4R6q4T7daBqf"
      },
      "source": [
        "### Exercise 2"
      ]
    },
    {
      "cell_type": "code",
      "execution_count": null,
      "id": "bdc72956",
      "metadata": {
        "id": "bdc72956"
      },
      "outputs": [],
      "source": [
        "! mongoimport /d lab /c store ../datasets-master/store.json --maintainInsertionOrder\n",
        "\n",
        "store = db.store\n",
        "store.find_one()"
      ]
    },
    {
      "cell_type": "code",
      "execution_count": null,
      "id": "f04168a9",
      "metadata": {
        "id": "f04168a9"
      },
      "outputs": [],
      "source": [
        "# Exercise 2-1\n",
        "result = store.find({'items.name': \"iPhone Xs\"},\n",
        "                   {'items': 1, '_id': 0 })\n",
        "pprint(list(result))"
      ]
    },
    {
      "cell_type": "code",
      "execution_count": null,
      "id": "dd7ad89d",
      "metadata": {
        "id": "dd7ad89d"
      },
      "outputs": [],
      "source": [
        "# Exercise 2-2\n",
        "result = store.find({'items.price': {'$lt': 400}},\n",
        "                   {'buyer.name': 1, '_id': 0})\n",
        "pprint(list(result))"
      ]
    },
    {
      "cell_type": "code",
      "execution_count": null,
      "id": "aa00954e",
      "metadata": {
        "id": "aa00954e"
      },
      "outputs": [],
      "source": [
        "# Exercise 2-3\n",
        "result = store.find({\n",
        "    'items': {'$elemMatch': {'name': \"Apple Watch Series 4\",\n",
        "                            'attribute.carrier': {'$exists': False}}}\n",
        "})\n",
        "pprint(list(result))"
      ]
    },
    {
      "attachments": {},
      "cell_type": "markdown",
      "id": "D5-GNH7XaHgJ",
      "metadata": {
        "id": "D5-GNH7XaHgJ"
      },
      "source": [
        "### Exercise 3"
      ]
    },
    {
      "cell_type": "code",
      "execution_count": null,
      "id": "b548defd",
      "metadata": {
        "id": "b548defd"
      },
      "outputs": [],
      "source": [
        "# Exercise 3-1\n",
        "inventory = db.inventory\n",
        "res1 = inventory.count_documents({})\n",
        "res2 = inventory.find().limit(2)\n",
        "\n",
        "print(res1)\n",
        "pprint(list(res2))"
      ]
    },
    {
      "cell_type": "code",
      "execution_count": null,
      "id": "8ebeac5d",
      "metadata": {
        "id": "8ebeac5d"
      },
      "outputs": [],
      "source": [
        "# Exercise 3-2\n",
        "res = store.find({}, {'buyer.method': 1, '_id': 0}).skip(3).limit(2)\n",
        "pprint(list(res))"
      ]
    },
    {
      "attachments": {},
      "cell_type": "markdown",
      "id": "b24754f7",
      "metadata": {
        "id": "b24754f7"
      },
      "source": [
        "### Exercise 4"
      ]
    },
    {
      "cell_type": "code",
      "execution_count": null,
      "id": "9b55ef88",
      "metadata": {
        "id": "9b55ef88"
      },
      "outputs": [],
      "source": [
        "posts = client.lab.posts\n",
        "\n",
        "# Exercise 4-1\n",
        "posts.insert_one({\n",
        "    'name': 'Lee',\n",
        "    'content': \"Hello I'm Lee\",\n",
        "    'tags': ['Hello', 'Greet']})"
      ]
    },
    {
      "cell_type": "code",
      "execution_count": null,
      "id": "94aa81ce",
      "metadata": {
        "id": "94aa81ce"
      },
      "outputs": [],
      "source": [
        "posts.update_one({'name': 'Lee'}, {\n",
        "    '$push': {'comments':\n",
        "        {'$each' : [\n",
        "            {\"name\" : \"Kim\", \"content\" : \"Good posts.\", \"like\" : 3},\n",
        "            {\"name\" : \"Choi\", \"content\" : \"How is it going?\", \"like\" : 1},\n",
        "            {\"name\" : \"David\", \"content\" : \"Hi, I’m David.\", \"like\" : 2},\n",
        "            {\"name\" : \"Kim\", \"content\" : \"Welcome!\", \"like\" : 3}\n",
        "            ]\n",
        "        }\n",
        "    }\n",
        "})"
      ]
    },
    {
      "cell_type": "code",
      "execution_count": null,
      "id": "e23c125d",
      "metadata": {
        "id": "e23c125d"
      },
      "outputs": [],
      "source": [
        "res = posts.find()\n",
        "pprint(list(res))"
      ]
    },
    {
      "cell_type": "code",
      "execution_count": null,
      "id": "60c3950f",
      "metadata": {
        "id": "60c3950f"
      },
      "outputs": [],
      "source": [
        "# Exercise 4-2\n",
        "posts.update_one(\n",
        "    {'name': 'Lee'},\n",
        "    {'$set': {'comments.1.like': 0}})\n",
        "\n",
        "posts.update_one(\n",
        "    {'name': 'Lee', 'comments.name': 'Kim'},\n",
        "    {'$set': {'comments.$.like': 5}})\n",
        "\n",
        "res = posts.find()\n",
        "pprint(list(res))"
      ]
    },
    {
      "cell_type": "code",
      "execution_count": null,
      "id": "28b30883",
      "metadata": {
        "id": "28b30883"
      },
      "outputs": [],
      "source": [
        "# Exercise 4-3\n",
        "posts.update_one(\n",
        "    {'name': 'Lee'},\n",
        "    {'$set': {'comments.$[var].like': 6}},\n",
        "    array_filters = [{'var.like': {'$gte': 3}}])\n",
        "\n",
        "res = posts.find()\n",
        "pprint(list(res))"
      ]
    },
    {
      "cell_type": "code",
      "execution_count": null,
      "id": "fb9171b9",
      "metadata": {
        "id": "fb9171b9"
      },
      "outputs": [],
      "source": [
        "# Exercise 4-4\n",
        "posts.update_one(\n",
        "    {'name': 'Lee'},\n",
        "    {'$set': {'comments.$[].like': 1}})\n",
        "\n",
        "res = posts.find()\n",
        "pprint(list(res))"
      ]
    },
    {
      "cell_type": "code",
      "execution_count": null,
      "id": "1d504181",
      "metadata": {
        "id": "1d504181"
      },
      "outputs": [],
      "source": [
        "# Exercise 4-5\n",
        "posts.update_one(\n",
        "    {'name': 'Lee'},\n",
        "    {'$pop': {'comments': 1}})\n",
        "\n",
        "posts.update_one(\n",
        "    {'name': 'Lee'},\n",
        "    {'$pull': {'comments': {'name': 'Choi'}}})\n",
        "\n",
        "posts.update_one(\n",
        "    {'name': 'Lee'},\n",
        "    {'$unset': {'content': 1}})\n",
        "\n",
        "res = posts.find()\n",
        "pprint(list(res))"
      ]
    },
    {
      "attachments": {},
      "cell_type": "markdown",
      "id": "2f9cd56f",
      "metadata": {},
      "source": [
        "### Exercise 5"
      ]
    },
    {
      "cell_type": "code",
      "execution_count": null,
      "id": "6b637a00",
      "metadata": {},
      "outputs": [],
      "source": [
        "!mongoimport /d lab /c grade ./dataset/grade.json\n",
        "from pymongo import MongoClient\n",
        "from pprint import pprint\n",
        "\n",
        "client = MongoClient()\n",
        "\n",
        "col = client.lab.grade"
      ]
    },
    {
      "attachments": {},
      "cell_type": "markdown",
      "id": "ce894486",
      "metadata": {},
      "source": [
        "#### Exercise 5-1"
      ]
    },
    {
      "cell_type": "code",
      "execution_count": null,
      "id": "12d38a2c",
      "metadata": {},
      "outputs": [],
      "source": [
        "# Print lost document’s sid and Insert the quiz score (80) to the corresponding sid \n",
        "total_count = (col.count_documents({}) + 1) // 3\n",
        "\n",
        "for sid in range(total_count):\n",
        "    count = col.count_documents({'sid': sid})\n",
        "    if count != 3:\n",
        "        print(sid)\n",
        "        col.insert_one({'sid': sid, 'type': 'quiz', 'score': 80})\n",
        "        break"
      ]
    },
    {
      "cell_type": "code",
      "execution_count": null,
      "id": "71f7453b",
      "metadata": {},
      "outputs": [],
      "source": [
        "## Print the three students that have the highest quiz score.\n",
        "result = col.find({'type':'quiz'},{\"_id\":0}).sort([('score', -1)]).limit(3)\n",
        "pprint(list(result))"
      ]
    },
    {
      "attachments": {},
      "cell_type": "markdown",
      "id": "e225483d",
      "metadata": {},
      "source": [
        "#### Exercise 5-2"
      ]
    },
    {
      "cell_type": "code",
      "execution_count": null,
      "id": "0f63ad49",
      "metadata": {},
      "outputs": [],
      "source": [
        "raw_input = input('search >')\n",
        "params = raw_input.split()\n",
        "\n",
        "target_1, target_2 = None, None\n",
        "try:\n",
        "    target_1 = int(params[1])\n",
        "except:\n",
        "    split_result = params[1].split('-')\n",
        "    target_1, target_2 = int(split_result[0]), int(split_result[1])\n",
        "\n",
        "# query 부분\n",
        "result_cursor = None\n",
        "if target_2 is None:\n",
        "    result_cursor = col.find({'type': params[0],\n",
        "                              'score': target_1})\n",
        "else:\n",
        "    result_cursor = col.find({'type': params[0], \n",
        "                              'score': {\n",
        "                                  '$gte': target_1, \n",
        "                                  '$lte': target_2}})\n",
        "\n",
        "print('sid\\t{}'.format(params[0]))\n",
        "for item in result_cursor:\n",
        "    print('{}\\t{}'.format(item['sid'], item['score']))"
      ]
    }
  ],
  "metadata": {
    "colab": {
      "collapsed_sections": [
        "b1TE5Z_qZ5RB",
        "4R6q4T7daBqf"
      ],
      "name": "0310_crud_advanced.ipynb",
      "provenance": []
    },
    "kernelspec": {
      "display_name": "Python 3 (ipykernel)",
      "language": "python",
      "name": "python3"
    },
    "language_info": {
      "codemirror_mode": {
        "name": "ipython",
        "version": 3
      },
      "file_extension": ".py",
      "mimetype": "text/x-python",
      "name": "python",
      "nbconvert_exporter": "python",
      "pygments_lexer": "ipython3",
      "version": "3.9.7"
    }
  },
  "nbformat": 4,
  "nbformat_minor": 5
}
