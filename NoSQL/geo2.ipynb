{
 "cells": [
  {
   "cell_type": "markdown",
   "metadata": {},
   "source": [
    "# Geo 2"
   ]
  },
  {
   "cell_type": "code",
   "execution_count": 1,
   "metadata": {},
   "outputs": [],
   "source": [
    "from pymongo import MongoClient\n",
    "from pprint import pprint\n",
    "\n",
    "client = MongoClient()\n",
    "db = client.geo2"
   ]
  },
  {
   "cell_type": "markdown",
   "metadata": {},
   "source": [
    "## Exercise 1"
   ]
  },
  {
   "cell_type": "code",
   "execution_count": 12,
   "metadata": {},
   "outputs": [
    {
     "name": "stdout",
     "output_type": "stream",
     "text": [
      "서울특별시 관악구 행운동\n"
     ]
    }
   ],
   "source": [
    "def find_my_dong(lon: float, lat: float) -> dict:\n",
    "    return db.hangjeongdong.find_one({'geometry': {'$geoIntersects': {'$geometry': {'type': 'Point', 'coordinates': [lon, lat]}}}})\n",
    "\n",
    "mydong = find_my_dong(126.954885, 37.482571)\n",
    "print(mydong['properties']['adm_nm'])"
   ]
  },
  {
   "cell_type": "markdown",
   "metadata": {},
   "source": [
    "## Exercise 2"
   ]
  },
  {
   "cell_type": "code",
   "execution_count": 15,
   "metadata": {},
   "outputs": [
    {
     "name": "stdout",
     "output_type": "stream",
     "text": [
      "177\n"
     ]
    }
   ],
   "source": [
    "def get_count_of_bob_in_dong(dong: dict) -> int:\n",
    "    return db.bob_license.count_documents({'loc': {'$geoWithin': {'$geometry': dong['geometry']}}, 'trdstatenm': '영업/정상'})\n",
    "\n",
    "cnt = get_count_of_bob_in_dong(mydong)\n",
    "print(cnt)"
   ]
  },
  {
   "cell_type": "markdown",
   "metadata": {},
   "source": [
    "## Exercise 3"
   ]
  },
  {
   "cell_type": "code",
   "execution_count": 98,
   "metadata": {},
   "outputs": [
    {
     "name": "stdout",
     "output_type": "stream",
     "text": [
      "서울특별시 관악구 행운동 177\n",
      "서울특별시 관악구 중앙동 73\n",
      "서울특별시 관악구 낙성대동 604\n",
      "서울특별시 관악구 청룡동 726\n",
      "서울특별시 관악구 성현동 26\n",
      "서울특별시 관악구 청림동 18\n",
      "서울특별시 동작구 사당5동 43\n",
      "서울특별시 관악구 은천동 82\n",
      "서울특별시 관악구 인헌동 182\n",
      "서울특별시 동작구 상도1동 289\n",
      "서울특별시 동작구 사당4동 145\n",
      "서울특별시 동작구 사당3동 33\n",
      "서울특별시 관악구 대학동 481\n",
      "서울특별시 관악구 서림동 100\n",
      "서울특별시 동작구 상도4동 203\n",
      "서울특별시 관악구 보라매동 25\n",
      "서울특별시 관악구 서원동 298\n",
      "서울특별시 동작구 사당2동 174\n",
      "서울특별시 동작구 사당1동 408\n",
      "서울특별시 동작구 상도3동 119\n",
      "서울특별시 관악구 남현동 426\n",
      "서울특별시 동작구 흑석동 347\n",
      "서울특별시 관악구 신림동 413\n",
      "서울특별시 동작구 상도2동 142\n"
     ]
    }
   ],
   "source": [
    "def find_near_dongs(lon: float, lat: float, r: float) -> list:  # list of documents\n",
    "    db.hangjeongdong.create_index([('geometry', '2dsphere')])\n",
    "    res = db.hangjeongdong.find({'geometry': {'$nearSphere': {'$geometry': {'type': 'Point', 'coordinates': [lon, lat]}, '$maxDistance': r}}})\n",
    "    return list(res)\n",
    "\n",
    "dongs = find_near_dongs(126.954885, 37.482571, 2000)\n",
    "for dong in dongs:\n",
    "    cnt = get_count_of_bob_in_dong(dong)\n",
    "    print(dong['properties']['adm_nm'], cnt)"
   ]
  },
  {
   "cell_type": "markdown",
   "metadata": {},
   "source": [
    "## Exercise 4"
   ]
  },
  {
   "cell_type": "markdown",
   "metadata": {},
   "source": [
    "### Using MultiPolygon"
   ]
  },
  {
   "cell_type": "code",
   "execution_count": 100,
   "metadata": {},
   "outputs": [
    {
     "name": "stdout",
     "output_type": "stream",
     "text": [
      "더벤티 신림녹두점 20220310\n",
      "훈수 삼겹 20220310\n",
      "마라온 20220302\n",
      "우리푸드(냠냠숯불두마리치킨) 20220302\n",
      "티에스 20220302\n",
      "도스타코스(dostacos) 20220302\n",
      "복덕밥 20220302\n",
      "청기와타운 서울대점 20220228\n",
      "밥찌김밥 20220225\n",
      "전설낙곱새 관악점 20220225\n"
     ]
    }
   ],
   "source": [
    "def get_newest_10_bobs(dongs: list):\n",
    "    multi_poly = {\n",
    "        'type': 'MultiPolygon',\n",
    "        'coordinates': []\n",
    "    }\n",
    "\n",
    "    for dong in dongs:\n",
    "        multi_poly['coordinates'].append(dong['geometry']['coordinates'])\n",
    "\n",
    "    res = db.bob_license.find({'loc': {'$geoWithin': {'$geometry': multi_poly}}}).sort([('apvpermymd', -1)]).limit(10)\n",
    "    for bob in res:\n",
    "        print(bob['bplcnm'], bob['apvpermymd'])\n",
    "\n",
    "\n",
    "get_newest_10_bobs(dongs)"
   ]
  },
  {
   "cell_type": "markdown",
   "metadata": {},
   "source": [
    "### Using $or"
   ]
  },
  {
   "cell_type": "code",
   "execution_count": 102,
   "metadata": {},
   "outputs": [
    {
     "name": "stdout",
     "output_type": "stream",
     "text": [
      "더벤티 신림녹두점 20220310\n",
      "훈수 삼겹 20220310\n",
      "마라온 20220302\n",
      "우리푸드(냠냠숯불두마리치킨) 20220302\n",
      "티에스 20220302\n",
      "도스타코스(dostacos) 20220302\n",
      "복덕밥 20220302\n",
      "청기와타운 서울대점 20220228\n",
      "밥찌김밥 20220225\n",
      "전설낙곱새 관악점 20220225\n"
     ]
    }
   ],
   "source": [
    "def get_newest_10_bobs(dongs: list):\n",
    "    or_list = []\n",
    "\n",
    "    for dong in dongs:\n",
    "        or_list.append({'loc': {'$geoWithin': {'$geometry': dong['geometry']}}})\n",
    "\n",
    "    res = db.bob_license.find({'$or': or_list}).sort([('apvpermymd', -1)]).limit(10)\n",
    "    for bob in res:\n",
    "        print(bob['bplcnm'], bob['apvpermymd'])\n",
    "\n",
    "\n",
    "get_newest_10_bobs(dongs)"
   ]
  }
 ],
 "metadata": {
  "kernelspec": {
   "display_name": ".venv",
   "language": "python",
   "name": "python3"
  },
  "language_info": {
   "codemirror_mode": {
    "name": "ipython",
    "version": 3
   },
   "file_extension": ".py",
   "mimetype": "text/x-python",
   "name": "python",
   "nbconvert_exporter": "python",
   "pygments_lexer": "ipython3",
   "version": "3.12.2"
  }
 },
 "nbformat": 4,
 "nbformat_minor": 2
}
