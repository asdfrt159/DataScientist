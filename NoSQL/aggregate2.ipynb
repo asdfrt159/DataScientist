{
 "cells": [
  {
   "cell_type": "markdown",
   "metadata": {},
   "source": [
    "## Aggregation Advanced"
   ]
  },
  {
   "cell_type": "code",
   "execution_count": 2,
   "metadata": {},
   "outputs": [],
   "source": [
    "from pymongo import MongoClient\n",
    "from pprint import pprint\n",
    "\n",
    "client = MongoClient()\n",
    "restaurants = client.agg2.restaurants\n",
    "airports = client.agg2.airports"
   ]
  },
  {
   "cell_type": "markdown",
   "metadata": {},
   "source": [
    "## Exercise 1"
   ]
  },
  {
   "cell_type": "code",
   "execution_count": 7,
   "metadata": {},
   "outputs": [
    {
     "name": "stdout",
     "output_type": "stream",
     "text": [
      "[{'_id': ObjectId('660bb75d4a6fa09a9fb4376d'),\n",
      "  'address': {'building': '0',\n",
      "              'coord': [-73.7822056, 40.6434612],\n",
      "              'street': 'Jfk International Airpor',\n",
      "              'zipcode': '11430'},\n",
      "  'borough': 'Queens',\n",
      "  'cuisine': 'Korean',\n",
      "  'dist': 497.9151037865528,\n",
      "  'grades': [{'date': datetime.datetime(2014, 6, 18, 0, 0),\n",
      "              'grade': 'A',\n",
      "              'score': 2},\n",
      "             {'date': datetime.datetime(2014, 1, 14, 0, 0),\n",
      "              'grade': 'A',\n",
      "              'score': 12},\n",
      "             {'date': datetime.datetime(2013, 1, 4, 0, 0),\n",
      "              'grade': 'A',\n",
      "              'score': 11},\n",
      "             {'date': datetime.datetime(2012, 4, 25, 0, 0),\n",
      "              'grade': 'A',\n",
      "              'score': 13}],\n",
      "  'name': 'Korean Lounge',\n",
      "  'restaurant_id': '40625198'}]\n"
     ]
    }
   ],
   "source": [
    "restaurants.create_index([('address.coord', '2dsphere')])\n",
    "for airport in airports.aggregate([{'$match': {'type': 'International'}}]):\n",
    "    res = restaurants.aggregate([\n",
    "        {'$geoNear': {\n",
    "            'near': airport['loc'],\n",
    "            'distanceField': 'dist',\n",
    "            'maxDistance': 2000,\n",
    "            'query': {'cuisine': 'Korean'}\n",
    "        }}\n",
    "    ])\n",
    "    l_res = list(res)\n",
    "    if len(l_res) == 0:\n",
    "        continue\n",
    "    pprint(l_res)"
   ]
  },
  {
   "cell_type": "markdown",
   "metadata": {},
   "source": [
    "## Exercise 2"
   ]
  },
  {
   "cell_type": "code",
   "execution_count": 13,
   "metadata": {},
   "outputs": [
    {
     "name": "stdout",
     "output_type": "stream",
     "text": [
      "[{'_id': '2호선',\n",
      "  'avg_pasgr_num': 28450.32711314476,\n",
      "  'max_pasgr_num': 152285,\n",
      "  'min_pasgr_num': 187},\n",
      " {'_id': '1호선',\n",
      "  'avg_pasgr_num': 25665.077495840265,\n",
      "  'max_pasgr_num': 115790,\n",
      "  'min_pasgr_num': 2613},\n",
      " {'_id': '4호선',\n",
      "  'avg_pasgr_num': 20892.54868488417,\n",
      "  'max_pasgr_num': 81539,\n",
      "  'min_pasgr_num': 256},\n",
      " {'_id': '경인선',\n",
      "  'avg_pasgr_num': 15479.504970881864,\n",
      "  'max_pasgr_num': 52930,\n",
      "  'min_pasgr_num': 833},\n",
      " {'_id': '3호선',\n",
      "  'avg_pasgr_num': 15471.945636888462,\n",
      "  'max_pasgr_num': 98674,\n",
      "  'min_pasgr_num': 1},\n",
      " {'_id': '7호선',\n",
      "  'avg_pasgr_num': 13225.216640566376,\n",
      "  'max_pasgr_num': 55392,\n",
      "  'min_pasgr_num': 483},\n",
      " {'_id': '과천선',\n",
      "  'avg_pasgr_num': 12952.302100665558,\n",
      "  'max_pasgr_num': 40611,\n",
      "  'min_pasgr_num': 224},\n",
      " {'_id': '경부선',\n",
      "  'avg_pasgr_num': 11745.341028387787,\n",
      "  'max_pasgr_num': 71684,\n",
      "  'min_pasgr_num': 1},\n",
      " {'_id': '5호선',\n",
      "  'avg_pasgr_num': 11062.741804835854,\n",
      "  'max_pasgr_num': 103998,\n",
      "  'min_pasgr_num': 314},\n",
      " {'_id': '일산선',\n",
      "  'avg_pasgr_num': 10349.738384382641,\n",
      "  'max_pasgr_num': 26135,\n",
      "  'min_pasgr_num': 1},\n",
      " {'_id': '8호선',\n",
      "  'avg_pasgr_num': 10009.315454634432,\n",
      "  'max_pasgr_num': 28029,\n",
      "  'min_pasgr_num': 1270},\n",
      " {'_id': '9호선',\n",
      "  'avg_pasgr_num': 9998.931647254576,\n",
      "  'max_pasgr_num': 68031,\n",
      "  'min_pasgr_num': 462},\n",
      " {'_id': '분당선',\n",
      "  'avg_pasgr_num': 9988.76429352448,\n",
      "  'max_pasgr_num': 37474,\n",
      "  'min_pasgr_num': 1},\n",
      " {'_id': '안산선',\n",
      "  'avg_pasgr_num': 9478.541245360297,\n",
      "  'max_pasgr_num': 28281,\n",
      "  'min_pasgr_num': 513},\n",
      " {'_id': '6호선',\n",
      "  'avg_pasgr_num': 8792.514716813668,\n",
      "  'max_pasgr_num': 49257,\n",
      "  'min_pasgr_num': 1},\n",
      " {'_id': '공항철도 1호선',\n",
      "  'avg_pasgr_num': 7403.999186489213,\n",
      "  'max_pasgr_num': 23450,\n",
      "  'min_pasgr_num': 543},\n",
      " {'_id': '9호선2단계',\n",
      "  'avg_pasgr_num': 7189.648002376355,\n",
      "  'max_pasgr_num': 22897,\n",
      "  'min_pasgr_num': 739},\n",
      " {'_id': '경원선',\n",
      "  'avg_pasgr_num': 7055.010269978095,\n",
      "  'max_pasgr_num': 30299,\n",
      "  'min_pasgr_num': 1},\n",
      " {'_id': '9호선2~3단계',\n",
      "  'avg_pasgr_num': 5793.0358131077555,\n",
      "  'max_pasgr_num': 28729,\n",
      "  'min_pasgr_num': 155},\n",
      " {'_id': '중앙선',\n",
      "  'avg_pasgr_num': 4513.563006454467,\n",
      "  'max_pasgr_num': 41989,\n",
      "  'min_pasgr_num': 12},\n",
      " {'_id': '경의선',\n",
      "  'avg_pasgr_num': 3756.3769871309614,\n",
      "  'max_pasgr_num': 13300,\n",
      "  'min_pasgr_num': 1},\n",
      " {'_id': '수인선',\n",
      "  'avg_pasgr_num': 3140.912216556015,\n",
      "  'max_pasgr_num': 16679,\n",
      "  'min_pasgr_num': 12},\n",
      " {'_id': '우이신설선',\n",
      "  'avg_pasgr_num': 3017.1424880228237,\n",
      "  'max_pasgr_num': 9069,\n",
      "  'min_pasgr_num': 181},\n",
      " {'_id': '장항선',\n",
      "  'avg_pasgr_num': 2358.816694398225,\n",
      "  'max_pasgr_num': 9461,\n",
      "  'min_pasgr_num': 255},\n",
      " {'_id': '경강선',\n",
      "  'avg_pasgr_num': 2236.21949717804,\n",
      "  'max_pasgr_num': 9210,\n",
      "  'min_pasgr_num': 1},\n",
      " {'_id': '경춘선',\n",
      "  'avg_pasgr_num': 1931.9491636745774,\n",
      "  'max_pasgr_num': 8258,\n",
      "  'min_pasgr_num': 34}]\n"
     ]
    }
   ],
   "source": [
    "metro = client.agg2.metro\n",
    "\n",
    "res = metro.aggregate([\n",
    "    {'$group': {'_id': '$line_num', 'max_pasgr_num': {'$max': '$ride_pasgr_num'}, 'min_pasgr_num': {'$min': '$ride_pasgr_num'}, 'avg_pasgr_num': {'$avg': '$ride_pasgr_num'}}},\n",
    "    {'$sort': {'avg_pasgr_num': -1}}\n",
    "])\n",
    "pprint(list(res))"
   ]
  },
  {
   "cell_type": "markdown",
   "metadata": {},
   "source": [
    "## Exercise 3"
   ]
  },
  {
   "cell_type": "code",
   "execution_count": 15,
   "metadata": {},
   "outputs": [
    {
     "name": "stdout",
     "output_type": "stream",
     "text": [
      "[{'_id': '20180101', 'total_alight_pasgr': 3494792},\n",
      " {'_id': '20180102', 'total_alight_pasgr': 7477444},\n",
      " {'_id': '20180103', 'total_alight_pasgr': 7652832},\n",
      " {'_id': '20180104', 'total_alight_pasgr': 7676464},\n",
      " {'_id': '20180105', 'total_alight_pasgr': 8105183},\n",
      " {'_id': '20180106', 'total_alight_pasgr': 5984044},\n",
      " {'_id': '20180107', 'total_alight_pasgr': 4286499}]\n"
     ]
    }
   ],
   "source": [
    "res = metro.aggregate([\n",
    "    {'$match': {'use_dt': {'$gte': '20180101', '$lte': '20180107'}}},\n",
    "    {'$group': {'_id': '$use_dt', 'total_alight_pasgr': {'$sum': '$alight_pasgr_num'}}},\n",
    "    {'$sort': {'_id': 1}}\n",
    "])\n",
    "pprint(list(res))"
   ]
  }
 ],
 "metadata": {
  "kernelspec": {
   "display_name": ".venv",
   "language": "python",
   "name": "python3"
  },
  "language_info": {
   "codemirror_mode": {
    "name": "ipython",
    "version": 3
   },
   "file_extension": ".py",
   "mimetype": "text/x-python",
   "name": "python",
   "nbconvert_exporter": "python",
   "pygments_lexer": "ipython3",
   "version": "3.12.2"
  }
 },
 "nbformat": 4,
 "nbformat_minor": 2
}
