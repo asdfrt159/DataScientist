{
 "cells": [
  {
   "cell_type": "code",
   "execution_count": 1,
   "metadata": {},
   "outputs": [],
   "source": [
    "from pymongo import MongoClient\n",
    "from pprint import pprint\n",
    "\n",
    "client = MongoClient()\n",
    "\n",
    "db = client.MovieLens  # set database\n",
    "# newjeans = db.newjeans  # set collection"
   ]
  },
  {
   "cell_type": "code",
   "execution_count": 2,
   "metadata": {},
   "outputs": [
    {
     "name": "stderr",
     "output_type": "stream",
     "text": [
      "C:\\Users\\삼성\\AppData\\Local\\Temp\\ipykernel_12188\\1579878703.py:1: DeprecationWarning: collection_names is deprecated. Use list_collection_names instead.\n",
      "  db.collection_names()\n"
     ]
    },
    {
     "data": {
      "text/plain": [
       "[]"
      ]
     },
     "execution_count": 2,
     "metadata": {},
     "output_type": "execute_result"
    }
   ],
   "source": [
    "db.collection_names()"
   ]
  },
  {
   "cell_type": "code",
   "execution_count": 4,
   "metadata": {},
   "outputs": [
    {
     "name": "stdout",
     "output_type": "stream",
     "text": [
      "None\n"
     ]
    }
   ],
   "source": [
    "print(db.ml_movies.find_one())"
   ]
  },
  {
   "cell_type": "code",
   "execution_count": 2,
   "metadata": {},
   "outputs": [
    {
     "data": {
      "text/plain": [
       "<pymongo.results.InsertOneResult at 0x247d8ee77c0>"
      ]
     },
     "execution_count": 2,
     "metadata": {},
     "output_type": "execute_result"
    }
   ],
   "source": [
    "newjeans.insert_one({'age':18,'name':'Minji'})"
   ]
  },
  {
   "cell_type": "code",
   "execution_count": 3,
   "metadata": {},
   "outputs": [
    {
     "data": {
      "text/plain": [
       "<pymongo.results.InsertOneResult at 0x247d8ee4f40>"
      ]
     },
     "execution_count": 3,
     "metadata": {},
     "output_type": "execute_result"
    }
   ],
   "source": [
    "newjeans.insert_one({'age':19,'name':'Hanni'})\n",
    "newjeans.insert_one({'age':18,'name':'Danielle'})\n",
    "newjeans.insert_one({'age':17,'name':'Hearin'})"
   ]
  },
  {
   "cell_type": "code",
   "execution_count": 4,
   "metadata": {},
   "outputs": [
    {
     "name": "stdout",
     "output_type": "stream",
     "text": [
      "[{'_id': ObjectId('6602377a037064fa4cc155f8'),\n",
      "  'age': 19,\n",
      "  'location': 'Rome',\n",
      "  'name': 'Hanni'},\n",
      " {'_id': ObjectId('6602377a037064fa4cc155fa'), 'age': 17, 'name': 'Hyein'},\n",
      " {'_id': ObjectId('66023cc10afb42f2633b907a'), 'age': 15, 'name': 'Hearin'},\n",
      " {'_id': ObjectId('6603cf3b83022d0e505eb50f'), 'age': 18, 'name': 'Minji'},\n",
      " {'_id': ObjectId('6603cf3c83022d0e505eb510'), 'age': 19, 'name': 'Hanni'},\n",
      " {'_id': ObjectId('6603cf3c83022d0e505eb511'), 'age': 18, 'name': 'Danielle'},\n",
      " {'_id': ObjectId('6603cf3c83022d0e505eb512'), 'age': 17, 'name': 'Hearin'}]\n"
     ]
    }
   ],
   "source": [
    "pprint(list(newjeans.find()))"
   ]
  },
  {
   "cell_type": "code",
   "execution_count": 5,
   "metadata": {},
   "outputs": [
    {
     "name": "stdout",
     "output_type": "stream",
     "text": [
      "{'_id': ObjectId('6602377a037064fa4cc155f8'),\n",
      " 'age': 19,\n",
      " 'location': 'Rome',\n",
      " 'name': 'Hanni'}\n"
     ]
    }
   ],
   "source": [
    "pprint(newjeans.find_one())"
   ]
  },
  {
   "cell_type": "code",
   "execution_count": 6,
   "metadata": {},
   "outputs": [
    {
     "data": {
      "text/plain": [
       "<pymongo.results.UpdateResult at 0x247d959ee00>"
      ]
     },
     "execution_count": 6,
     "metadata": {},
     "output_type": "execute_result"
    }
   ],
   "source": [
    "newjeans.update_one(\n",
    "    {'name':'Hanni'},\n",
    "    {'$set':{'location':'Rome'}}\n",
    ")"
   ]
  },
  {
   "cell_type": "code",
   "execution_count": 7,
   "metadata": {},
   "outputs": [
    {
     "data": {
      "text/plain": [
       "<pymongo.results.UpdateResult at 0x247d9220d40>"
      ]
     },
     "execution_count": 7,
     "metadata": {},
     "output_type": "execute_result"
    }
   ],
   "source": [
    "newjeans.update_many(\n",
    "    {'age':18},\n",
    "    {'$set':{'location':'Paris'}}\n",
    ")"
   ]
  },
  {
   "cell_type": "code",
   "execution_count": 8,
   "metadata": {},
   "outputs": [
    {
     "data": {
      "text/plain": [
       "<pymongo.results.UpdateResult at 0x247d95aaac0>"
      ]
     },
     "execution_count": 8,
     "metadata": {},
     "output_type": "execute_result"
    }
   ],
   "source": [
    "newjeans.update_one(\n",
    "    {'name':'Hearin'},\n",
    "    {'$set':{'name':'Hyein'}}\n",
    ")"
   ]
  },
  {
   "cell_type": "code",
   "execution_count": 9,
   "metadata": {},
   "outputs": [
    {
     "data": {
      "text/plain": [
       "<pymongo.results.UpdateResult at 0x247d95ab300>"
      ]
     },
     "execution_count": 9,
     "metadata": {},
     "output_type": "execute_result"
    }
   ],
   "source": [
    "newjeans.update_one(\n",
    "    {'name' : 'Hearin'},\n",
    "    {'$set' : {'age':15}},\n",
    "    upsert = True\n",
    " \n",
    ")"
   ]
  },
  {
   "cell_type": "code",
   "execution_count": 10,
   "metadata": {},
   "outputs": [
    {
     "data": {
      "text/plain": [
       "<pymongo.results.DeleteResult at 0x247d959f480>"
      ]
     },
     "execution_count": 10,
     "metadata": {},
     "output_type": "execute_result"
    }
   ],
   "source": [
    "newjeans.delete_many(\n",
    "    {'location':'Paris'}\n",
    ")"
   ]
  },
  {
   "cell_type": "code",
   "execution_count": 11,
   "metadata": {},
   "outputs": [
    {
     "data": {
      "text/plain": [
       "[{'_id': ObjectId('6602377a037064fa4cc155f8'),\n",
       "  'age': 19,\n",
       "  'name': 'Hanni',\n",
       "  'location': 'Rome'},\n",
       " {'_id': ObjectId('6602377a037064fa4cc155fa'), 'age': 17, 'name': 'Hyein'},\n",
       " {'_id': ObjectId('66023cc10afb42f2633b907a'), 'name': 'Hyein', 'age': 15},\n",
       " {'_id': ObjectId('6603cf3c83022d0e505eb510'), 'age': 19, 'name': 'Hanni'},\n",
       " {'_id': ObjectId('6603cf3c83022d0e505eb512'), 'age': 15, 'name': 'Hearin'}]"
      ]
     },
     "execution_count": 11,
     "metadata": {},
     "output_type": "execute_result"
    }
   ],
   "source": [
    "list(newjeans.find())"
   ]
  },
  {
   "cell_type": "markdown",
   "metadata": {},
   "source": [
    "# 0327"
   ]
  },
  {
   "cell_type": "code",
   "execution_count": 1,
   "metadata": {},
   "outputs": [],
   "source": [
    "from pymongo import MongoClient\n",
    "from pprint import pprint\n",
    "\n",
    "client = MongoClient()\n",
    "\n",
    "db = client.lab\n",
    "\n",
    "col = db.imdb"
   ]
  },
  {
   "cell_type": "code",
   "execution_count": 2,
   "metadata": {},
   "outputs": [],
   "source": [
    "def input_movie_info():\n",
    "\ttitle = input('Movie title:')\n",
    "\tdirector = input('Director:')\n",
    "\tgenre = input('Genre:').split(',')\n",
    "\tscore = float(input('score:'))\n",
    "\treturn title, director, genre, score"
   ]
  },
  {
   "cell_type": "code",
   "execution_count": 3,
   "metadata": {},
   "outputs": [
    {
     "name": "stdout",
     "output_type": "stream",
     "text": [
      "[INFO] Success to insert!\n",
      "[{'title': 'asdfaw', 'director': 'asdf', 'genre': ['asdf'], 'score': 3.0, '_id': ObjectId('6603d5950f373c8d1e7e5f59')}, {'title': 'asdf', 'director': 'asdf', 'genre': ['asdf'], 'score': 3.0, '_id': ObjectId('6603d5950f373c8d1e7e5f5a')}]\n"
     ]
    }
   ],
   "source": [
    "\n",
    "\n",
    "\n",
    "lst = []\n",
    "while True :\n",
    "\tt, d, g, s = input_movie_info()\n",
    "\n",
    "\tlst.append({\n",
    "\t\t'title' : t,\n",
    "\t\t'director' : d,\n",
    "\t\t'genre' : g,\n",
    "\t\t'score' : s\n",
    "\t})\n",
    "\tI = input('Quit (Y/N)? ')\n",
    "\tif I == 'Y' :\n",
    "\t\tbreak\n",
    "\n",
    "col.insert_many(lst)\n",
    "\n",
    "print('[INFO] Success to insert!')\n",
    "print(lst)"
   ]
  },
  {
   "cell_type": "code",
   "execution_count": 4,
   "metadata": {},
   "outputs": [
    {
     "name": "stdout",
     "output_type": "stream",
     "text": [
      "[{'_id': ObjectId('6603d14a83022d0e505eb514'),\n",
      "  'director': 'Craig Gillespie',\n",
      "  'genre': ['Comedy', ' Crime'],\n",
      "  'score': 7.4,\n",
      "  'title': 'Cruella'},\n",
      " {'_id': ObjectId('6603d2bf83022d0e505eb515'),\n",
      "  'director': 'b',\n",
      "  'genre': ['c'],\n",
      "  'score': 2.0,\n",
      "  'title': 'a'},\n",
      " {'_id': ObjectId('6603d2bf83022d0e505eb516'),\n",
      "  'director': 'b',\n",
      "  'genre': ['c'],\n",
      "  'score': 5.0,\n",
      "  'title': 'a'},\n",
      " {'_id': ObjectId('6603d2ee83022d0e505eb518'),\n",
      "  'director': 'b',\n",
      "  'genre': ['c'],\n",
      "  'score': 4.0,\n",
      "  'title': 'a'},\n",
      " {'_id': ObjectId('6603d2ee83022d0e505eb519'),\n",
      "  'director': 'c',\n",
      "  'genre': ['d'],\n",
      "  'score': 3.0,\n",
      "  'title': 'b'},\n",
      " {'_id': ObjectId('6603d33c83022d0e505eb51b'),\n",
      "  'director': 'b',\n",
      "  'genre': ['c'],\n",
      "  'score': 4.0,\n",
      "  'title': 'a'},\n",
      " {'_id': ObjectId('6603d33c83022d0e505eb51c'),\n",
      "  'director': 'b',\n",
      "  'genre': ['c'],\n",
      "  'score': 4.0,\n",
      "  'title': 'a'},\n",
      " {'_id': ObjectId('6603d38d83022d0e505eb51e'),\n",
      "  'director': 'b',\n",
      "  'genre': ['c'],\n",
      "  'score': 3.0,\n",
      "  'title': 'a'},\n",
      " {'_id': ObjectId('6603d38d83022d0e505eb51f'),\n",
      "  'director': 'b',\n",
      "  'genre': ['c'],\n",
      "  'score': 5.0,\n",
      "  'title': 'a'},\n",
      " {'_id': ObjectId('6603d41083022d0e505eb521'),\n",
      "  'director': 'dfsdf',\n",
      "  'genre': ['sdfsdf'],\n",
      "  'score': 1.0,\n",
      "  'title': 'fdfs'},\n",
      " {'_id': ObjectId('6603d41083022d0e505eb522'),\n",
      "  'director': 'asdf',\n",
      "  'genre': ['asdf'],\n",
      "  'score': 4.0,\n",
      "  'title': 'dfasdf'},\n",
      " {'_id': ObjectId('6603d48183022d0e505eb523'),\n",
      "  'director': 'b',\n",
      "  'genre': ['c'],\n",
      "  'score': 4.0,\n",
      "  'title': 'a'},\n",
      " {'_id': ObjectId('6603d48183022d0e505eb524'),\n",
      "  'director': 'b',\n",
      "  'genre': ['c'],\n",
      "  'score': 3.0,\n",
      "  'title': 'a'},\n",
      " {'_id': ObjectId('6603d4a683022d0e505eb526'),\n",
      "  'director': 'aba',\n",
      "  'genre': ['asdf'],\n",
      "  'score': 4.0,\n",
      "  'title': 'asdf'},\n",
      " {'_id': ObjectId('6603d4a683022d0e505eb527'),\n",
      "  'director': 'asdf',\n",
      "  'genre': ['asdf'],\n",
      "  'score': 43.0,\n",
      "  'title': 'asdf'},\n",
      " {'_id': ObjectId('6603d5950f373c8d1e7e5f59'),\n",
      "  'director': 'asdf',\n",
      "  'genre': ['asdf'],\n",
      "  'score': 3.0,\n",
      "  'title': 'asdfaw'},\n",
      " {'_id': ObjectId('6603d5950f373c8d1e7e5f5a'),\n",
      "  'director': 'asdf',\n",
      "  'genre': ['asdf'],\n",
      "  'score': 3.0,\n",
      "  'title': 'asdf'}]\n"
     ]
    }
   ],
   "source": [
    "pprint(list(col.find()))"
   ]
  }
 ],
 "metadata": {
  "kernelspec": {
   "display_name": "Python 3",
   "language": "python",
   "name": "python3"
  },
  "language_info": {
   "codemirror_mode": {
    "name": "ipython",
    "version": 3
   },
   "file_extension": ".py",
   "mimetype": "text/x-python",
   "name": "python",
   "nbconvert_exporter": "python",
   "pygments_lexer": "ipython3",
   "version": "3.11.9"
  }
 },
 "nbformat": 4,
 "nbformat_minor": 2
}
