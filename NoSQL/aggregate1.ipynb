{
 "cells": [
  {
   "cell_type": "markdown",
   "metadata": {},
   "source": [
    "# Aggregation Basic"
   ]
  },
  {
   "cell_type": "code",
   "execution_count": 17,
   "metadata": {},
   "outputs": [],
   "source": [
    "from pymongo import MongoClient\n",
    "from pprint import pprint\n",
    "\n",
    "client = MongoClient()\n",
    "restaurants = client.agg1.restaurants"
   ]
  },
  {
   "cell_type": "markdown",
   "metadata": {},
   "source": [
    "## Exercise 1"
   ]
  },
  {
   "cell_type": "code",
   "execution_count": 9,
   "metadata": {},
   "outputs": [
    {
     "data": {
      "text/plain": [
       "[{'_id': 'Manhattan', 'count': 78},\n",
       " {'_id': 'Brooklyn', 'count': 16},\n",
       " {'_id': 'Queens', 'count': 167},\n",
       " {'_id': 'Staten Island', 'count': 1}]"
      ]
     },
     "execution_count": 9,
     "metadata": {},
     "output_type": "execute_result"
    }
   ],
   "source": [
    "res = restaurants.aggregate([\n",
    "    {'$match': {'cuisine': 'Korean'}},\n",
    "    {'$group': {'_id': '$borough', 'count': {'$sum': 1}}}\n",
    "])\n",
    "list(res)"
   ]
  },
  {
   "cell_type": "markdown",
   "metadata": {},
   "source": [
    "## Exercise 2"
   ]
  },
  {
   "cell_type": "code",
   "execution_count": 4,
   "metadata": {},
   "outputs": [
    {
     "data": {
      "text/plain": [
       "[{'_id': {'borough': 'Staten Island', 'grade': 'A'}, 'count': 1},\n",
       " {'_id': {'borough': 'Queens', 'grade': 'A'}, 'count': 443},\n",
       " {'_id': {'borough': 'Manhattan', 'grade': 'A'}, 'count': 232},\n",
       " {'_id': {'borough': 'Brooklyn', 'grade': 'A'}, 'count': 38},\n",
       " {'_id': {'borough': 'Queens', 'grade': 'B'}, 'count': 140},\n",
       " {'_id': {'borough': 'Manhattan', 'grade': 'B'}, 'count': 49},\n",
       " {'_id': {'borough': 'Brooklyn', 'grade': 'B'}, 'count': 5},\n",
       " {'_id': {'borough': 'Queens', 'grade': 'C'}, 'count': 37},\n",
       " {'_id': {'borough': 'Manhattan', 'grade': 'C'}, 'count': 20},\n",
       " {'_id': {'borough': 'Brooklyn', 'grade': 'C'}, 'count': 1},\n",
       " {'_id': {'borough': 'Queens', 'grade': 'Not Yet Graded'}, 'count': 5},\n",
       " {'_id': {'borough': 'Manhattan', 'grade': 'Not Yet Graded'}, 'count': 2},\n",
       " {'_id': {'borough': 'Brooklyn', 'grade': 'Not Yet Graded'}, 'count': 1},\n",
       " {'_id': {'borough': 'Queens', 'grade': 'P'}, 'count': 7},\n",
       " {'_id': {'borough': 'Manhattan', 'grade': 'P'}, 'count': 4},\n",
       " {'_id': {'borough': 'Brooklyn', 'grade': 'P'}, 'count': 2},\n",
       " {'_id': {'borough': 'Queens', 'grade': 'Z'}, 'count': 14},\n",
       " {'_id': {'borough': 'Manhattan', 'grade': 'Z'}, 'count': 11},\n",
       " {'_id': {'borough': 'Brooklyn', 'grade': 'Z'}, 'count': 1}]"
      ]
     },
     "execution_count": 4,
     "metadata": {},
     "output_type": "execute_result"
    }
   ],
   "source": [
    "res = restaurants.aggregate([\n",
    "    {'$match': {'cuisine': 'Korean'}},\n",
    "    {'$unwind': '$grades'},\n",
    "    {'$group': {'_id': {'borough': '$borough', 'grade': '$grades.grade'}, 'count': {'$sum': 1}}},\n",
    "    {'$sort': {'_id.borough': -1, '_id.grade': 1}}\n",
    "])\n",
    "list(res)"
   ]
  },
  {
   "cell_type": "markdown",
   "metadata": {},
   "source": [
    "## Exercise 3"
   ]
  },
  {
   "cell_type": "markdown",
   "metadata": {},
   "source": [
    "### Exercise 3-1"
   ]
  },
  {
   "cell_type": "code",
   "execution_count": 18,
   "metadata": {},
   "outputs": [
    {
     "data": {
      "text/plain": [
       "1363"
      ]
     },
     "execution_count": 18,
     "metadata": {},
     "output_type": "execute_result"
    }
   ],
   "source": [
    "res = restaurants.aggregate([\n",
    "    {'$group': {'_id': '$name', 'count': {'$sum': 1}}},\n",
    "    {'$match': {'count': {'$gt': 1}}}\n",
    "])\n",
    "l_res = list(res)\n",
    "len(l_res)"
   ]
  },
  {
   "cell_type": "markdown",
   "metadata": {},
   "source": [
    "### Exercise 3-2"
   ]
  },
  {
   "cell_type": "code",
   "execution_count": 20,
   "metadata": {},
   "outputs": [
    {
     "data": {
      "text/plain": [
       "[{'_id': 'Filicori Zecchini', 'avg_score': 31.5},\n",
       " {'_id': 'Aki Sushi', 'avg_score': 30.25},\n",
       " {'_id': 'Lucky 13 Saloon', 'avg_score': 31.833333333333332}]"
      ]
     },
     "execution_count": 20,
     "metadata": {},
     "output_type": "execute_result"
    }
   ],
   "source": [
    "res2 = restaurants.aggregate([\n",
    "    {'$match': {'name': {'$in': list(map(lambda x: x['_id'], l_res))}}},\n",
    "    {'$unwind': '$grades'},\n",
    "    {'$group': {'_id': '$name', 'avg_score': {'$avg': '$grades.score'}}},\n",
    "    {'$match': {'avg_score': {'$gt': 30}}}\n",
    "])\n",
    "l_res2 = list(res2)\n",
    "l_res2"
   ]
  },
  {
   "cell_type": "markdown",
   "metadata": {},
   "source": [
    "### Exercise 3-3"
   ]
  },
  {
   "cell_type": "code",
   "execution_count": 23,
   "metadata": {},
   "outputs": [
    {
     "name": "stdout",
     "output_type": "stream",
     "text": [
      "Lucky 13 Saloon [{'address': {'building': '273', 'coord': [-73.98782489999999, 40.6666864], 'street': '13 Street', 'zipcode': '11215'}, 'bad_scores': [24, 29, 14]}]\n",
      "Filicori Zecchini [{'address': {'building': '2541', 'coord': [-73.9724773, 40.7941879], 'street': 'Broadway', 'zipcode': '10025'}, 'bad_scores': [14]}]\n",
      "Aki Sushi [{'address': {'building': '212', 'coord': [-73.969291, 40.756594], 'street': 'East   52 Street', 'zipcode': '10022'}, 'bad_scores': [13, 22, 26]}]\n"
     ]
    }
   ],
   "source": [
    "for item in l_res2:\n",
    "    res3 = restaurants.aggregate([\n",
    "        {'$match': {'name': item['_id']}},\n",
    "        {'$project': {'_id': 0, 'address': 1, 'bad_scores': {'$filter': {'input': '$grades.score', 'as': 'eval', 'cond': {'$lt': ['$$eval', item['avg_score']]}}}}},\n",
    "        {'$match': {'bad_scores': {'$ne': []}}}\n",
    "    ])\n",
    "    print(item['_id'], list(res3))"
   ]
  }
 ],
 "metadata": {
  "kernelspec": {
   "display_name": ".venv",
   "language": "python",
   "name": "python3"
  },
  "language_info": {
   "codemirror_mode": {
    "name": "ipython",
    "version": 3
   },
   "file_extension": ".py",
   "mimetype": "text/x-python",
   "name": "python",
   "nbconvert_exporter": "python",
   "pygments_lexer": "ipython3",
   "version": "3.12.2"
  }
 },
 "nbformat": 4,
 "nbformat_minor": 2
}
