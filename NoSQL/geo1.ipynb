{
 "cells": [
  {
   "cell_type": "markdown",
   "metadata": {},
   "source": [
    "# LAB Geo 1"
   ]
  },
  {
   "cell_type": "code",
   "execution_count": 32,
   "metadata": {},
   "outputs": [],
   "source": [
    "from pymongo import MongoClient\n",
    "from pprint import pprint\n",
    "\n",
    "client = MongoClient()\n",
    "db = client.geo1"
   ]
  },
  {
   "cell_type": "markdown",
   "metadata": {},
   "source": [
    "## Exercise 1"
   ]
  },
  {
   "cell_type": "code",
   "execution_count": 9,
   "metadata": {},
   "outputs": [
    {
     "data": {
      "text/plain": [
       "'loc_2dsphere'"
      ]
     },
     "execution_count": 9,
     "metadata": {},
     "output_type": "execute_result"
    }
   ],
   "source": [
    "db.states.create_index([('loc', '2dsphere')])\n",
    "db.states.index_information()\n",
    "db.states.drop_index([('loc', '2dsphere')])\n",
    "db.states.index_information()"
   ]
  },
  {
   "cell_type": "markdown",
   "metadata": {},
   "source": [
    "## Exercise 2"
   ]
  },
  {
   "cell_type": "code",
   "execution_count": 28,
   "metadata": {},
   "outputs": [
    {
     "data": {
      "text/plain": [
       "[{'name': 'Albany County'},\n",
       " {'name': 'Greater Buffalo Intl'},\n",
       " {'name': 'Greater Rochester International'},\n",
       " {'name': 'John F Kennedy Intl'},\n",
       " {'name': 'La Guardia'},\n",
       " {'name': 'Massena Intl'},\n",
       " {'name': 'Niagara Falls Intl'},\n",
       " {'name': 'Ogdensburg Intl'},\n",
       " {'name': 'Stewart Intl'},\n",
       " {'name': 'Syracuse Hancock Intl'},\n",
       " {'name': 'Watertown International'}]"
      ]
     },
     "execution_count": 28,
     "metadata": {},
     "output_type": "execute_result"
    }
   ],
   "source": [
    "given_zip = '10044'\n",
    "state_code = db.small_zips.find_one({'_id': given_zip})['state']\n",
    "state_area = db.states.find_one({'code': state_code})['loc']\n",
    "res = db.airports.find(\n",
    "    {'loc': {'$geoWithin': {'$geometry': state_area}}, 'type': 'International'}, \n",
    "    {'name': 1, '_id': 0}).sort([('name', 1)])\n",
    "list(res)"
   ]
  },
  {
   "cell_type": "markdown",
   "metadata": {},
   "source": [
    "## Exercise 3"
   ]
  },
  {
   "cell_type": "code",
   "execution_count": 35,
   "metadata": {},
   "outputs": [
    {
     "name": "stdout",
     "output_type": "stream",
     "text": [
      "[{'_id': ObjectId('660ad116de24ddeaf4341079'),\n",
      "  'address': {'building': '0',\n",
      "              'coord': [-73.7822056, 40.6434612],\n",
      "              'street': 'Jfk International Airpor',\n",
      "              'zipcode': '11430'},\n",
      "  'borough': 'Queens',\n",
      "  'cuisine': 'Korean',\n",
      "  'grades': [{'date': datetime.datetime(2014, 6, 18, 0, 0),\n",
      "              'grade': 'A',\n",
      "              'score': 2},\n",
      "             {'date': datetime.datetime(2014, 1, 14, 0, 0),\n",
      "              'grade': 'A',\n",
      "              'score': 12},\n",
      "             {'date': datetime.datetime(2013, 1, 4, 0, 0),\n",
      "              'grade': 'A',\n",
      "              'score': 11},\n",
      "             {'date': datetime.datetime(2012, 4, 25, 0, 0),\n",
      "              'grade': 'A',\n",
      "              'score': 13}],\n",
      "  'name': 'Korean Lounge',\n",
      "  'restaurant_id': '40625198'}]\n"
     ]
    }
   ],
   "source": [
    "airports = db.airports.find({'type': 'International'})\n",
    "for airport in airports:\n",
    "    res = db.restaurants.find({\n",
    "        'address.coord': {'$geoWithin': {'$centerSphere': [airport['loc']['coordinates'], 2 / 6378.1]}},\n",
    "        'cuisine': 'Korean'})\n",
    "    lres = list(res)\n",
    "    if len(lres) == 0:\n",
    "        continue\n",
    "    pprint(lres)"
   ]
  },
  {
   "cell_type": "code",
   "execution_count": 38,
   "metadata": {},
   "outputs": [
    {
     "name": "stdout",
     "output_type": "stream",
     "text": [
      "[{'_id': ObjectId('660ad116de24ddeaf4341079'),\n",
      "  'address': {'building': '0',\n",
      "              'coord': [-73.7822056, 40.6434612],\n",
      "              'street': 'Jfk International Airpor',\n",
      "              'zipcode': '11430'},\n",
      "  'borough': 'Queens',\n",
      "  'cuisine': 'Korean',\n",
      "  'grades': [{'date': datetime.datetime(2014, 6, 18, 0, 0),\n",
      "              'grade': 'A',\n",
      "              'score': 2},\n",
      "             {'date': datetime.datetime(2014, 1, 14, 0, 0),\n",
      "              'grade': 'A',\n",
      "              'score': 12},\n",
      "             {'date': datetime.datetime(2013, 1, 4, 0, 0),\n",
      "              'grade': 'A',\n",
      "              'score': 11},\n",
      "             {'date': datetime.datetime(2012, 4, 25, 0, 0),\n",
      "              'grade': 'A',\n",
      "              'score': 13}],\n",
      "  'name': 'Korean Lounge',\n",
      "  'restaurant_id': '40625198'}]\n"
     ]
    }
   ],
   "source": [
    "db.restaurants.create_index([('address.coord', '2dsphere')])\n",
    "airports = db.airports.find({'type': 'International'})\n",
    "for airport in airports:\n",
    "    res = db.restaurants.find({\n",
    "        'address.coord': {'$nearSphere': {'$geometry': airport['loc'], '$maxDistance': 2000}},\n",
    "        'cuisine': 'Korean'})\n",
    "    lres = list(res)\n",
    "    if len(lres) == 0:\n",
    "        continue\n",
    "    pprint(lres)"
   ]
  },
  {
   "cell_type": "markdown",
   "metadata": {},
   "source": [
    "## Exercise 4"
   ]
  },
  {
   "cell_type": "code",
   "execution_count": 43,
   "metadata": {},
   "outputs": [
    {
     "data": {
      "text/plain": [
       "[{'name': 'Arizona'},\n",
       " {'name': 'California'},\n",
       " {'name': 'Colorado'},\n",
       " {'name': 'Illinois'},\n",
       " {'name': 'Iowa'},\n",
       " {'name': 'Kansas'},\n",
       " {'name': 'Michigan'},\n",
       " {'name': 'Nebraska'},\n",
       " {'name': 'Nevada'},\n",
       " {'name': 'Utah'}]"
      ]
     },
     "execution_count": 43,
     "metadata": {},
     "output_type": "execute_result"
    }
   ],
   "source": [
    "lax = db.airports.find_one({'code': 'LAX'})\n",
    "dtw = db.airports.find_one({'code': 'DTW'})\n",
    "geo_obj = {\n",
    "    'type': 'LineString',\n",
    "    'coordinates': [lax['loc']['coordinates'], dtw['loc']['coordinates']]\n",
    "}\n",
    "\n",
    "res = db.states.find({'loc': {'$geoIntersects': {'$geometry': geo_obj}}}, {'name': 1, '_id': 0}).sort([('name', 1)])\n",
    "list(res)"
   ]
  }
 ],
 "metadata": {
  "kernelspec": {
   "display_name": ".venv",
   "language": "python",
   "name": "python3"
  },
  "language_info": {
   "codemirror_mode": {
    "name": "ipython",
    "version": 3
   },
   "file_extension": ".py",
   "mimetype": "text/x-python",
   "name": "python",
   "nbconvert_exporter": "python",
   "pygments_lexer": "ipython3",
   "version": "3.12.2"
  }
 },
 "nbformat": 4,
 "nbformat_minor": 2
}
