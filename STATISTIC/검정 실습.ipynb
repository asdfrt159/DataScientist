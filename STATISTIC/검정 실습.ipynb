{
 "cells": [
  {
   "cell_type": "markdown",
   "metadata": {
    "slideshow": {
     "slide_type": "slide"
    }
   },
   "source": [
    "# (추가자료) Testing in Python\n",
    "DS<sup>2</sup> Probability, Statistics and Bayesian Statistics"
   ]
  },
  {
   "cell_type": "markdown",
   "metadata": {
    "slideshow": {
     "slide_type": "subslide"
    }
   },
   "source": [
    "이번 자료는 Python에서 통계적 가설검정을 하는 방법에 대해 다루어보도록 하겠습니다."
   ]
  },
  {
   "cell_type": "code",
   "execution_count": 5,
   "metadata": {
    "slideshow": {
     "slide_type": "subslide"
    }
   },
   "outputs": [
    {
     "name": "stdout",
     "output_type": "stream",
     "text": [
      "Running python ver. : 3.11.8 (tags/v3.11.8:db85d51, Feb  6 2024, 22:03:32) [MSC v.1937 64 bit (AMD64)]\n",
      "Running numpy ver. : 1.26.4\n"
     ]
    },
    {
     "ename": "NameError",
     "evalue": "name 'scipy' is not defined",
     "output_type": "error",
     "traceback": [
      "\u001b[1;31m---------------------------------------------------------------------------\u001b[0m",
      "\u001b[1;31mNameError\u001b[0m                                 Traceback (most recent call last)",
      "Cell \u001b[1;32mIn[5], line 13\u001b[0m\n\u001b[0;32m     11\u001b[0m \u001b[38;5;28mprint\u001b[39m(\u001b[38;5;124mf\u001b[39m\u001b[38;5;124m'\u001b[39m\u001b[38;5;124mRunning python ver. : \u001b[39m\u001b[38;5;132;01m{\u001b[39;00msys\u001b[38;5;241m.\u001b[39mversion\u001b[38;5;132;01m}\u001b[39;00m\u001b[38;5;124m'\u001b[39m)\n\u001b[0;32m     12\u001b[0m \u001b[38;5;28mprint\u001b[39m(\u001b[38;5;124mf\u001b[39m\u001b[38;5;124m'\u001b[39m\u001b[38;5;124mRunning numpy ver. : \u001b[39m\u001b[38;5;132;01m{\u001b[39;00mnp\u001b[38;5;241m.\u001b[39m__version__\u001b[38;5;132;01m}\u001b[39;00m\u001b[38;5;124m'\u001b[39m)\n\u001b[1;32m---> 13\u001b[0m \u001b[38;5;28mprint\u001b[39m(\u001b[38;5;124mf\u001b[39m\u001b[38;5;124m'\u001b[39m\u001b[38;5;124mRunning scipy ver. : \u001b[39m\u001b[38;5;132;01m{\u001b[39;00m\u001b[43mscipy\u001b[49m\u001b[38;5;241m.\u001b[39m__version__\u001b[38;5;132;01m}\u001b[39;00m\u001b[38;5;124m'\u001b[39m)\n\u001b[0;32m     14\u001b[0m \u001b[38;5;28mprint\u001b[39m(\u001b[38;5;124mf\u001b[39m\u001b[38;5;124m'\u001b[39m\u001b[38;5;124mRunning statsmodels ver. : \u001b[39m\u001b[38;5;132;01m{\u001b[39;00msm\u001b[38;5;241m.\u001b[39m__version__\u001b[38;5;132;01m}\u001b[39;00m\u001b[38;5;124m'\u001b[39m)\n",
      "\u001b[1;31mNameError\u001b[0m: name 'scipy' is not defined"
     ]
    }
   ],
   "source": [
    "import sys\n",
    "import numpy as np\n",
    "import scipy\n",
    "from scipy import stats\n",
    "from scipy.stats import norm, t, chi2, binom\n",
    "import matplotlib.pyplot as plt\n",
    "import statsmodels.api as sm\n",
    "import scienceplots\n",
    "\n",
    "plt.style.use('science')\n",
    "\n",
    "print(f'Running python ver. : {sys.version}')\n",
    "print(f'Running numpy ver. : {np.__version__}')\n",
    "print(f'Running scipy ver. : {scipy.__version__}')\n",
    "print(f'Running statsmodels ver. : {sm.__version__}')"
   ]
  },
  {
   "cell_type": "markdown",
   "metadata": {
    "slideshow": {
     "slide_type": "subslide"
    }
   },
   "source": [
    "## Mean, standard deviation\n",
    "\n",
    "- `np.array` 객체에 대해, `mean`과 `std` 메소드를 사용하여 평균과 표준편차를 구할 수 있습니다.\n",
    "- `ddof` 인자를 사용하여 표본표준편차를 구할 수 있습니다. (기본값은 0)"
   ]
  },
  {
   "cell_type": "code",
   "execution_count": 63,
   "metadata": {
    "slideshow": {
     "slide_type": "subslide"
    }
   },
   "outputs": [
    {
     "name": "stdout",
     "output_type": "stream",
     "text": [
      "Mean : 3.3333333333333335\n",
      "Median : 3.0\n",
      "Mode : ModeResult(mode=2, count=2)\n"
     ]
    }
   ],
   "source": [
    "sample = [1,2,2,4,5,6]\n",
    "\n",
    "# Mean\n",
    "print(f'Mean : {np.mean(sample)}')\n",
    "\n",
    "# Median\n",
    "print(f'Median : {np.median(sample)}')\n",
    "\n",
    "# Mode\n",
    "print(f'Mode : {stats.mode(sample)}')"
   ]
  },
  {
   "cell_type": "code",
   "execution_count": 66,
   "metadata": {
    "slideshow": {
     "slide_type": "subslide"
    }
   },
   "outputs": [
    {
     "name": "stdout",
     "output_type": "stream",
     "text": [
      "Variance : 3.2222222222222228\n",
      "Variance : 3.866666666666667\n"
     ]
    }
   ],
   "source": [
    "# Variance\n",
    "\n",
    "print(f'Variance : {np.var(sample)}') # default ddof=0\n",
    "print(f'Variance : {np.var(sample, ddof=1)}')"
   ]
  },
  {
   "cell_type": "code",
   "execution_count": 67,
   "metadata": {
    "slideshow": {
     "slide_type": "subslide"
    }
   },
   "outputs": [
    {
     "name": "stdout",
     "output_type": "stream",
     "text": [
      "Variance : 3.866666666666667\n"
     ]
    }
   ],
   "source": [
    "# Note in pandas, ddof=1 by default\n",
    "import pandas as pd\n",
    "\n",
    "print(f'Variance : {pd.Series(sample).var()}')"
   ]
  },
  {
   "cell_type": "markdown",
   "metadata": {
    "slideshow": {
     "slide_type": "slide"
    }
   },
   "source": [
    "## Random variable\n",
    "\n",
    "- `scipy.stats` 모듈의 클래스 `norm, t, f, chi2` 등을 사용하여 확률분포를 생성할 수 있습니다."
   ]
  },
  {
   "cell_type": "code",
   "execution_count": 13,
   "metadata": {
    "slideshow": {
     "slide_type": "subslide"
    }
   },
   "outputs": [],
   "source": [
    "# Normal variable\n",
    "\n",
    "X = norm(loc=10, scale=3)"
   ]
  },
  {
   "cell_type": "code",
   "execution_count": 15,
   "metadata": {
    "slideshow": {
     "slide_type": "fragment"
    }
   },
   "outputs": [
    {
     "name": "stdout",
     "output_type": "stream",
     "text": [
      "<scipy.stats._distn_infrastructure.rv_continuous_frozen object at 0x286a2c9d0>\n"
     ]
    }
   ],
   "source": [
    "print(X) # rv_continuous object"
   ]
  },
  {
   "cell_type": "markdown",
   "metadata": {
    "slideshow": {
     "slide_type": "subslide"
    }
   },
   "source": [
    "`.rvs()` 메소드를 사용하여 확률분포로부터 난수를 생성할 수 있습니다."
   ]
  },
  {
   "cell_type": "code",
   "execution_count": 20,
   "metadata": {
    "slideshow": {
     "slide_type": "fragment"
    }
   },
   "outputs": [
    {
     "data": {
      "text/plain": [
       "array([ 9.16220138,  8.05732738, 10.69961182,  8.1066554 ,  8.53923909,\n",
       "        8.6474042 , 11.41339434,  9.69055128,  4.45377966, 11.96700478])"
      ]
     },
     "execution_count": 20,
     "metadata": {},
     "output_type": "execute_result"
    }
   ],
   "source": [
    "# Generate random samples\n",
    "\n",
    "x = X.rvs(size=1000)\n",
    "x[:10]"
   ]
  },
  {
   "cell_type": "markdown",
   "metadata": {
    "slideshow": {
     "slide_type": "subslide"
    }
   },
   "source": [
    "`.pdf()`, `.cdf()`, `.ppf()` 메소드를 사용하여 확률밀도함수, 누적분포함수, 분위수를 계산할 수 있습니다."
   ]
  },
  {
   "cell_type": "code",
   "execution_count": 33,
   "metadata": {
    "slideshow": {
     "slide_type": "fragment"
    }
   },
   "outputs": [
    {
     "data": {
      "image/png": "[encoded data removed]",
      "text/plain": [
       "<Figure size 1000x400 with 2 Axes>"
      ]
     },
     "metadata": {},
     "output_type": "display_data"
    }
   ],
   "source": [
    "# pdf, cdf\n",
    "\n",
    "fig, axes = plt.subplots(1, 2, figsize=(10, 4))\n",
    "\n",
    "x = np.linspace(0, 20, 100)\n",
    "pdf = X.pdf(x)\n",
    "cdf = X.cdf(x)\n",
    "\n",
    "\n",
    "axes[0].plot(x, pdf, 'r')\n",
    "axes[0].set_title('pdf')\n",
    "axes[1].plot(x, cdf, 'b')\n",
    "axes[1].set_title('cdf')\n",
    "fig.suptitle('Normal distribution $N(10, 3)$')\n",
    "plt.show()"
   ]
  },
  {
   "cell_type": "code",
   "execution_count": 36,
   "metadata": {
    "slideshow": {
     "slide_type": "subslide"
    }
   },
   "outputs": [
    {
     "data": {
      "text/plain": [
       "1.644853626951472"
      ]
     },
     "execution_count": 36,
     "metadata": {},
     "output_type": "execute_result"
    }
   ],
   "source": [
    "# ppf (percent point function)\n",
    "## ex. P(X <= x) = 0.95\n",
    "\n",
    "p = 0.95\n",
    "\n",
    "norm(loc=0, scale=1).ppf(p)"
   ]
  },
  {
   "cell_type": "markdown",
   "metadata": {
    "slideshow": {
     "slide_type": "slide"
    }
   },
   "source": [
    "## Testing"
   ]
  },
  {
   "cell_type": "markdown",
   "metadata": {
    "slideshow": {
     "slide_type": "subslide"
    }
   },
   "source": [
    "### 정규분포의 모평균에 대한 검정\n",
    "\n",
    "한 제약회사에서 생산하고 있는 진통제는 복용 후 진통효과가 나타날 때까지의 시간이 평균 30분, 표준편차 5분의 정규분포를 따르는 것으로 알려져 있다. 이 제약회사의 연구원들은 새로운 진통제를 개발하고 그 진통효과가 기존의 제품보다 빨리 나타난다고 주장한다. 이 회사의 경영진은 이들의 주장을 확인하기 위하여 10명의 환자를 랜덤하게 추출하여 새로운 진통제를 복용시킨 후에 진통 효과가 나타나는 시간을 측정하였다.이러한 조사에서 새로운 진통제의 진통효과가 더 빠르다는 증거가 뚜렷하다고 판단되면 생산공정을 변경하여 새로운 진통제를 양산하려고 한다.관측된 샘플 $X_1,\\ldots,X_{10}$이 다음과 같을 때, 유의수준 5\\%에서 가설검정을 하시오."
   ]
  },
  {
   "cell_type": "code",
   "execution_count": 2,
   "metadata": {
    "slideshow": {
     "slide_type": "subslide"
    }
   },
   "outputs": [
    {
     "name": "stdout",
     "output_type": "stream",
     "text": [
      "27.5\n"
     ]
    }
   ],
   "source": [
    "import numpy as np\n",
    "\n",
    "samples = [25, 25.5, 31, 25, 29.5, 28.5, 28, 26, 26, 30.5]\n",
    "print(np.mean(samples))"
   ]
  },
  {
   "cell_type": "code",
   "execution_count": 3,
   "metadata": {
    "slideshow": {
     "slide_type": "subslide"
    }
   },
   "outputs": [
    {
     "name": "stdout",
     "output_type": "stream",
     "text": [
      "test_stat = -1.5811388300841898\n"
     ]
    }
   ],
   "source": [
    "# Z-test\n",
    "\n",
    "mu = 30\n",
    "sd = 5\n",
    "\n",
    "test_stat = (np.mean(samples) - mu) / (sd / np.sqrt(len(samples)))\n",
    "print(f'test_stat = {test_stat}')"
   ]
  },
  {
   "cell_type": "code",
   "execution_count": 4,
   "metadata": {
    "slideshow": {
     "slide_type": "subslide"
    }
   },
   "outputs": [
    {
     "ename": "NameError",
     "evalue": "name 'norm' is not defined",
     "output_type": "error",
     "traceback": [
      "\u001b[1;31m---------------------------------------------------------------------------\u001b[0m",
      "\u001b[1;31mNameError\u001b[0m                                 Traceback (most recent call last)",
      "Cell \u001b[1;32mIn[4], line 4\u001b[0m\n\u001b[0;32m      1\u001b[0m \u001b[38;5;66;03m# Critical value\u001b[39;00m\n\u001b[0;32m      3\u001b[0m alpha \u001b[38;5;241m=\u001b[39m \u001b[38;5;241m0.05\u001b[39m\n\u001b[1;32m----> 4\u001b[0m z_alpha \u001b[38;5;241m=\u001b[39m \u001b[43mnorm\u001b[49m(loc\u001b[38;5;241m=\u001b[39m\u001b[38;5;241m0\u001b[39m, scale\u001b[38;5;241m=\u001b[39m\u001b[38;5;241m1\u001b[39m)\u001b[38;5;241m.\u001b[39mppf(alpha)\n\u001b[0;32m      5\u001b[0m \u001b[38;5;28mprint\u001b[39m(\u001b[38;5;124mf\u001b[39m\u001b[38;5;124m'\u001b[39m\u001b[38;5;124mz_alpha = \u001b[39m\u001b[38;5;132;01m{\u001b[39;00mz_alpha\u001b[38;5;132;01m}\u001b[39;00m\u001b[38;5;124m'\u001b[39m)\n",
      "\u001b[1;31mNameError\u001b[0m: name 'norm' is not defined"
     ]
    }
   ],
   "source": [
    "# Critical value\n",
    "\n",
    "alpha = 0.05\n",
    "z_alpha = norm(loc=0, scale=1).ppf(alpha)\n",
    "print(f'z_alpha = {z_alpha}')"
   ]
  },
  {
   "cell_type": "code",
   "execution_count": 57,
   "metadata": {
    "slideshow": {
     "slide_type": "subslide"
    }
   },
   "outputs": [
    {
     "name": "stdout",
     "output_type": "stream",
     "text": [
      "p_value = 0.056923149003329024\n"
     ]
    }
   ],
   "source": [
    "# p-value\n",
    "\n",
    "p_value = norm(loc=0, scale=1).cdf(test_stat)\n",
    "print(f'p_value = {p_value}')"
   ]
  },
  {
   "cell_type": "markdown",
   "metadata": {
    "slideshow": {
     "slide_type": "slide"
    }
   },
   "source": [
    "### 정규분포의 모평균에 대한 검정 (2)\n",
    "\n",
    "한 제약회사에서 생산하고 있는 진통제는 복용 후 진통효과가 나타날 때까지의 시간이 평균 **30**분인 정규분포를 따르는 것으로 알려져 있다. 이 제약회사의 연구원들은 새로운 진통제를 개발하고 그 진통효과가 기존의 제품보다 빨리 나타난다고 주장한다. 이 회사의 경영진은 이들의 주장을 확인하기 위하여 100명의 환자를 랜덤하게 추출하여 새로운 진통제를 복용시킨 후에 진통 효과가 나타나는 시간을 측정하였다.이러한 조사에서 새로운 진통제의 진통효과가 더 빠르다는 증거가 뚜렷하다고 판단되면 생산공정을 변경하여 새로운 진통제를 양산하려고 한다.관측된 샘플 $X_1,\\ldots,X_{10}$이 다음과 같을 때, 유의수준 5\\%에서 가설검정을 하시오."
   ]
  },
  {
   "cell_type": "code",
   "execution_count": 61,
   "metadata": {
    "slideshow": {
     "slide_type": "subslide"
    }
   },
   "outputs": [
    {
     "name": "stdout",
     "output_type": "stream",
     "text": [
      "27.5\n"
     ]
    }
   ],
   "source": [
    "samples = [25, 25.5, 31, 25, 29.5, 28.5, 28, 26, 26, 30.5]\n",
    "print(np.mean(samples))"
   ]
  },
  {
   "cell_type": "code",
   "execution_count": 71,
   "metadata": {
    "slideshow": {
     "slide_type": "subslide"
    }
   },
   "outputs": [
    {
     "name": "stdout",
     "output_type": "stream",
     "text": [
      "test_stat = -3.4412360080584263\n",
      "t_alpha = -1.8331129326536337\n",
      "p_value = 0.003688048566046467\n"
     ]
    }
   ],
   "source": [
    "# Test statistic\n",
    "\n",
    "mu = 30\n",
    "test_stat = (np.mean(samples) - mu) / (np.std(samples, ddof=1) / np.sqrt(len(samples)))\n",
    "print(f'test_stat = {test_stat}')\n",
    "\n",
    "# Critical value\n",
    "\n",
    "alpha = 0.05\n",
    "t_alpha = t(df=len(samples)-1).ppf(alpha)\n",
    "print(f't_alpha = {t_alpha}')\n",
    "\n",
    "# p-value\n",
    "\n",
    "p_value = t(df=len(samples)-1).cdf(test_stat)\n",
    "print(f'p_value = {p_value}')"
   ]
  },
  {
   "cell_type": "code",
   "execution_count": 75,
   "metadata": {
    "slideshow": {
     "slide_type": "subslide"
    }
   },
   "outputs": [
    {
     "name": "stdout",
     "output_type": "stream",
     "text": [
      "t_stat = -3.4412360080584263\n",
      "p_value = 0.003688048566046467\n"
     ]
    }
   ],
   "source": [
    "# Use scipy.stats\n",
    "\n",
    "t_stat, p_value = scipy.stats.ttest_1samp(samples, mu, alternative='less')\n",
    "\n",
    "print(f't_stat = {t_stat}')\n",
    "print(f'p_value = {p_value}')"
   ]
  },
  {
   "cell_type": "markdown",
   "metadata": {
    "slideshow": {
     "slide_type": "slide"
    }
   },
   "source": [
    "### 정규분포의 모분산에 대한 검정\n",
    "\n",
    "플라스틱판을 생산하는 한 공장이 있다. 판 두께의 표준편차가 1.5mm를 상회하면 공정에 이상이 있는 것으로 간주한다. 어느 날 10개의 판을 랜덤추출하여 두께를 측정한 결과가 다음과 같았다.\n",
    "$$226, 228, 226, 225, 232, 228, 227, 229, 225, 230$$\n",
    "\n",
    "과거의 공정관리 기록에 의하면, 이러한 판 두께의 분포는 정규분포라고 해도 무방할때, 공정에 이상이 있는가를 유의수준 5%에서 검정하여라."
   ]
  },
  {
   "cell_type": "code",
   "execution_count": 77,
   "metadata": {
    "slideshow": {
     "slide_type": "subslide"
    }
   },
   "outputs": [
    {
     "name": "stdout",
     "output_type": "stream",
     "text": [
      "227.6\n"
     ]
    }
   ],
   "source": [
    "samples = [226, 228, 226, 225, 232, 228, 227, 229, 225, 230]\n",
    "print(np.mean(samples))"
   ]
  },
  {
   "cell_type": "code",
   "execution_count": 89,
   "metadata": {
    "slideshow": {
     "slide_type": "subslide"
    }
   },
   "outputs": [
    {
     "name": "stdout",
     "output_type": "stream",
     "text": [
      "test_stat = 20.62222222222222\n",
      "chi2_alpha = 16.918977604620444\n",
      "p_value = 0.014437644082268442\n"
     ]
    }
   ],
   "source": [
    "# Chi2 test statistic\n",
    "s2 = np.var(samples, ddof=1)\n",
    "n = len(samples)\n",
    "\n",
    "test_stat = (n-1) * s2 / 1.5**2\n",
    "print(f'test_stat = {test_stat}')\n",
    "\n",
    "# Critical value\n",
    "\n",
    "alpha = 0.95\n",
    "chi2_alpha = chi2(df=n-1).ppf(alpha)\n",
    "print(f'chi2_alpha = {chi2_alpha}')\n",
    "\n",
    "# p-value\n",
    "\n",
    "p_value = 1- chi2(df=n-1).cdf(test_stat)\n",
    "print(f'p_value = {p_value}')"
   ]
  },
  {
   "cell_type": "markdown",
   "metadata": {
    "slideshow": {
     "slide_type": "subslide"
    }
   },
   "source": [
    "# 기타 검정\n",
    "- 두 모집단의 평균에 대한 검정 : `ttest_ind`\n",
    "- 두 모집단의 분산에 대한 검정 : `levene', 'bartlett`"
   ]
  },
  {
   "cell_type": "code",
   "execution_count": 93,
   "metadata": {
    "slideshow": {
     "slide_type": "subslide"
    }
   },
   "outputs": [
    {
     "name": "stdout",
     "output_type": "stream",
     "text": [
      "227.6\n",
      "229.5\n"
     ]
    }
   ],
   "source": [
    "# Ex.\n",
    "\n",
    "sample1 = [226, 228, 226, 225, 232, 228, 227, 229, 225, 230]\n",
    "sample2 = [225, 226, 227, 228, 229, 230, 231, 232, 233, 234]\n",
    "\n",
    "print(np.mean(sample1))\n",
    "print(np.mean(sample2))"
   ]
  },
  {
   "cell_type": "code",
   "execution_count": 96,
   "metadata": {
    "slideshow": {
     "slide_type": "subslide"
    }
   },
   "outputs": [
    {
     "data": {
      "text/plain": [
       "LeveneResult(statistic=1.2932551319648091, pvalue=0.27036159319492853)"
      ]
     },
     "execution_count": 96,
     "metadata": {},
     "output_type": "execute_result"
    }
   ],
   "source": [
    "# Equal variance\n",
    "\n",
    "scipy.stats.levene(sample1, sample2) # p-value > 0.05 : equal variance"
   ]
  },
  {
   "cell_type": "code",
   "execution_count": 97,
   "metadata": {
    "slideshow": {
     "slide_type": "subslide"
    }
   },
   "outputs": [
    {
     "data": {
      "text/plain": [
       "TtestResult(statistic=-1.5876267107027602, pvalue=0.12978121566134176, df=18.0)"
      ]
     },
     "execution_count": 97,
     "metadata": {},
     "output_type": "execute_result"
    }
   ],
   "source": [
    "# t-test\n",
    "\n",
    "scipy.stats.ttest_ind(sample1, sample2, equal_var=True)"
   ]
  }
 ],
 "metadata": {
  "kernelspec": {
   "display_name": "colab",
   "language": "python",
   "name": "python3"
  },
  "language_info": {
   "codemirror_mode": {
    "name": "ipython",
    "version": 3
   },
   "file_extension": ".py",
   "mimetype": "text/x-python",
   "name": "python",
   "nbconvert_exporter": "python",
   "pygments_lexer": "ipython3",
   "version": "3.11.8"
  }
 },
 "nbformat": 4,
 "nbformat_minor": 2
}
